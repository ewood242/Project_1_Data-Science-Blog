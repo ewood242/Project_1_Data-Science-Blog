{
 "cells": [
  {
   "cell_type": "markdown",
   "metadata": {},
   "source": [
    "Project 1: Writing a Data Scientist Blog Post"
   ]
  },
  {
   "cell_type": "markdown",
   "metadata": {},
   "source": [
    "Boston Airbnb Data"
   ]
  },
  {
   "cell_type": "markdown",
   "metadata": {},
   "source": [
    "Import required packages:"
   ]
  },
  {
   "cell_type": "code",
   "execution_count": 1161,
   "metadata": {},
   "outputs": [],
   "source": [
    "import numpy as np\n",
    "import pandas as pd\n",
    "import matplotlib.pyplot as plt\n",
    "from sklearn.linear_model import LinearRegression\n",
    "from sklearn.model_selection import train_test_split\n",
    "from sklearn.metrics import r2_score, mean_squared_error\n",
    "import seaborn as sns\n",
    "import zipfile\n",
    "%matplotlib inline"
   ]
  },
  {
   "cell_type": "markdown",
   "metadata": {},
   "source": [
    "Get familiar with the contents of the calendar file."
   ]
  },
  {
   "cell_type": "code",
   "execution_count": 1162,
   "metadata": {},
   "outputs": [
    {
     "data": {
      "text/html": [
       "<div>\n",
       "<style scoped>\n",
       "    .dataframe tbody tr th:only-of-type {\n",
       "        vertical-align: middle;\n",
       "    }\n",
       "\n",
       "    .dataframe tbody tr th {\n",
       "        vertical-align: top;\n",
       "    }\n",
       "\n",
       "    .dataframe thead th {\n",
       "        text-align: right;\n",
       "    }\n",
       "</style>\n",
       "<table border=\"1\" class=\"dataframe\">\n",
       "  <thead>\n",
       "    <tr style=\"text-align: right;\">\n",
       "      <th></th>\n",
       "      <th>listing_id</th>\n",
       "      <th>date</th>\n",
       "      <th>available</th>\n",
       "      <th>price</th>\n",
       "    </tr>\n",
       "  </thead>\n",
       "  <tbody>\n",
       "    <tr>\n",
       "      <th>0</th>\n",
       "      <td>12147973</td>\n",
       "      <td>2017-09-05</td>\n",
       "      <td>f</td>\n",
       "      <td>NaN</td>\n",
       "    </tr>\n",
       "    <tr>\n",
       "      <th>1</th>\n",
       "      <td>12147973</td>\n",
       "      <td>2017-09-04</td>\n",
       "      <td>f</td>\n",
       "      <td>NaN</td>\n",
       "    </tr>\n",
       "    <tr>\n",
       "      <th>2</th>\n",
       "      <td>12147973</td>\n",
       "      <td>2017-09-03</td>\n",
       "      <td>f</td>\n",
       "      <td>NaN</td>\n",
       "    </tr>\n",
       "    <tr>\n",
       "      <th>3</th>\n",
       "      <td>12147973</td>\n",
       "      <td>2017-09-02</td>\n",
       "      <td>f</td>\n",
       "      <td>NaN</td>\n",
       "    </tr>\n",
       "    <tr>\n",
       "      <th>4</th>\n",
       "      <td>12147973</td>\n",
       "      <td>2017-09-01</td>\n",
       "      <td>f</td>\n",
       "      <td>NaN</td>\n",
       "    </tr>\n",
       "  </tbody>\n",
       "</table>\n",
       "</div>"
      ],
      "text/plain": [
       "   listing_id        date available price\n",
       "0    12147973  2017-09-05         f   NaN\n",
       "1    12147973  2017-09-04         f   NaN\n",
       "2    12147973  2017-09-03         f   NaN\n",
       "3    12147973  2017-09-02         f   NaN\n",
       "4    12147973  2017-09-01         f   NaN"
      ]
     },
     "execution_count": 1162,
     "metadata": {},
     "output_type": "execute_result"
    }
   ],
   "source": [
    "# Open calendar data file\n",
    "calendar_path = r\"C:\\Users\\emma1\\Project_1_Data-Science-Blog\\Boston Airbnb Open Data\\calendar.csv\"\n",
    "calendar = pd.read_csv(calendar_path)\n",
    "# View top five rows\n",
    "calendar.head()"
   ]
  },
  {
   "cell_type": "code",
   "execution_count": 1163,
   "metadata": {},
   "outputs": [
    {
     "data": {
      "text/plain": [
       "(1308890, 4)"
      ]
     },
     "execution_count": 1163,
     "metadata": {},
     "output_type": "execute_result"
    }
   ],
   "source": [
    "# How big is the dataset?\n",
    "calendar.shape # 4 columns : 1,308,890 rows of data"
   ]
  },
  {
   "cell_type": "code",
   "execution_count": 1164,
   "metadata": {},
   "outputs": [
    {
     "data": {
      "text/plain": [
       "listing_id     int64\n",
       "date          object\n",
       "available     object\n",
       "price         object\n",
       "dtype: object"
      ]
     },
     "execution_count": 1164,
     "metadata": {},
     "output_type": "execute_result"
    }
   ],
   "source": [
    "# What data types are included in this dataset?\n",
    "calendar.dtypes # Why is price listed as an object?"
   ]
  },
  {
   "cell_type": "code",
   "execution_count": 1165,
   "metadata": {},
   "outputs": [
    {
     "data": {
      "text/plain": [
       "listing_id         0\n",
       "date               0\n",
       "available          0\n",
       "price         665853\n",
       "dtype: int64"
      ]
     },
     "execution_count": 1165,
     "metadata": {},
     "output_type": "execute_result"
    }
   ],
   "source": [
    "# Count null values\n",
    "calendar.isnull().sum() # 665,853 null values in price column"
   ]
  },
  {
   "cell_type": "code",
   "execution_count": 1166,
   "metadata": {},
   "outputs": [
    {
     "data": {
      "text/plain": [
       "listing_id    0.000000\n",
       "date          0.000000\n",
       "available     0.000000\n",
       "price         0.508716\n",
       "dtype: float64"
      ]
     },
     "execution_count": 1166,
     "metadata": {},
     "output_type": "execute_result"
    }
   ],
   "source": [
    "# Determine proportion of null values\n",
    "calendar.isnull().mean() # 50.8716% null values in price column"
   ]
  },
  {
   "cell_type": "code",
   "execution_count": 1167,
   "metadata": {},
   "outputs": [
    {
     "data": {
      "text/html": [
       "<div>\n",
       "<style scoped>\n",
       "    .dataframe tbody tr th:only-of-type {\n",
       "        vertical-align: middle;\n",
       "    }\n",
       "\n",
       "    .dataframe tbody tr th {\n",
       "        vertical-align: top;\n",
       "    }\n",
       "\n",
       "    .dataframe thead th {\n",
       "        text-align: right;\n",
       "    }\n",
       "</style>\n",
       "<table border=\"1\" class=\"dataframe\">\n",
       "  <thead>\n",
       "    <tr style=\"text-align: right;\">\n",
       "      <th></th>\n",
       "      <th>listing_id</th>\n",
       "      <th>date</th>\n",
       "      <th>available</th>\n",
       "      <th>price</th>\n",
       "    </tr>\n",
       "  </thead>\n",
       "  <tbody>\n",
       "    <tr>\n",
       "      <th>count</th>\n",
       "      <td>1.308890e+06</td>\n",
       "      <td>1308890</td>\n",
       "      <td>1308890</td>\n",
       "      <td>643037</td>\n",
       "    </tr>\n",
       "    <tr>\n",
       "      <th>unique</th>\n",
       "      <td>NaN</td>\n",
       "      <td>365</td>\n",
       "      <td>2</td>\n",
       "      <td>1246</td>\n",
       "    </tr>\n",
       "    <tr>\n",
       "      <th>top</th>\n",
       "      <td>NaN</td>\n",
       "      <td>2016-09-06</td>\n",
       "      <td>f</td>\n",
       "      <td>$150.00</td>\n",
       "    </tr>\n",
       "    <tr>\n",
       "      <th>freq</th>\n",
       "      <td>NaN</td>\n",
       "      <td>3586</td>\n",
       "      <td>665853</td>\n",
       "      <td>20752</td>\n",
       "    </tr>\n",
       "    <tr>\n",
       "      <th>mean</th>\n",
       "      <td>8.442118e+06</td>\n",
       "      <td>NaN</td>\n",
       "      <td>NaN</td>\n",
       "      <td>NaN</td>\n",
       "    </tr>\n",
       "    <tr>\n",
       "      <th>std</th>\n",
       "      <td>4.500149e+06</td>\n",
       "      <td>NaN</td>\n",
       "      <td>NaN</td>\n",
       "      <td>NaN</td>\n",
       "    </tr>\n",
       "    <tr>\n",
       "      <th>min</th>\n",
       "      <td>3.353000e+03</td>\n",
       "      <td>NaN</td>\n",
       "      <td>NaN</td>\n",
       "      <td>NaN</td>\n",
       "    </tr>\n",
       "    <tr>\n",
       "      <th>25%</th>\n",
       "      <td>4.679319e+06</td>\n",
       "      <td>NaN</td>\n",
       "      <td>NaN</td>\n",
       "      <td>NaN</td>\n",
       "    </tr>\n",
       "    <tr>\n",
       "      <th>50%</th>\n",
       "      <td>8.578710e+06</td>\n",
       "      <td>NaN</td>\n",
       "      <td>NaN</td>\n",
       "      <td>NaN</td>\n",
       "    </tr>\n",
       "    <tr>\n",
       "      <th>75%</th>\n",
       "      <td>1.279603e+07</td>\n",
       "      <td>NaN</td>\n",
       "      <td>NaN</td>\n",
       "      <td>NaN</td>\n",
       "    </tr>\n",
       "    <tr>\n",
       "      <th>max</th>\n",
       "      <td>1.493346e+07</td>\n",
       "      <td>NaN</td>\n",
       "      <td>NaN</td>\n",
       "      <td>NaN</td>\n",
       "    </tr>\n",
       "  </tbody>\n",
       "</table>\n",
       "</div>"
      ],
      "text/plain": [
       "          listing_id        date available    price\n",
       "count   1.308890e+06     1308890   1308890   643037\n",
       "unique           NaN         365         2     1246\n",
       "top              NaN  2016-09-06         f  $150.00\n",
       "freq             NaN        3586    665853    20752\n",
       "mean    8.442118e+06         NaN       NaN      NaN\n",
       "std     4.500149e+06         NaN       NaN      NaN\n",
       "min     3.353000e+03         NaN       NaN      NaN\n",
       "25%     4.679319e+06         NaN       NaN      NaN\n",
       "50%     8.578710e+06         NaN       NaN      NaN\n",
       "75%     1.279603e+07         NaN       NaN      NaN\n",
       "max     1.493346e+07         NaN       NaN      NaN"
      ]
     },
     "execution_count": 1167,
     "metadata": {},
     "output_type": "execute_result"
    }
   ],
   "source": [
    "# Look at descriptive statistics for each field\n",
    "calendar.describe(include='all') # statistics not very useful - only listing_id is an int field, others are object fields"
   ]
  },
  {
   "cell_type": "markdown",
   "metadata": {},
   "source": [
    "Clean up calendar file."
   ]
  },
  {
   "cell_type": "code",
   "execution_count": 1168,
   "metadata": {},
   "outputs": [
    {
     "data": {
      "text/plain": [
       "listing_id             int64\n",
       "date          datetime64[ns]\n",
       "available             object\n",
       "price                 object\n",
       "dtype: object"
      ]
     },
     "execution_count": 1168,
     "metadata": {},
     "output_type": "execute_result"
    }
   ],
   "source": [
    "# Change date field from object to datetime\n",
    "calendar['date'] = pd.to_datetime(calendar['date'])\n",
    "calendar.dtypes # confirm change was successful"
   ]
  },
  {
   "cell_type": "code",
   "execution_count": 1169,
   "metadata": {},
   "outputs": [
    {
     "data": {
      "text/plain": [
       "price\n",
       "150.00      20752\n",
       "65.00       17518\n",
       "75.00       16249\n",
       "100.00      15499\n",
       "200.00      14326\n",
       "            ...  \n",
       "1,056.00        1\n",
       "1,381.00        1\n",
       "1,707.00        1\n",
       "2,080.00        1\n",
       "1,810.00        1\n",
       "Name: count, Length: 1246, dtype: int64"
      ]
     },
     "execution_count": 1169,
     "metadata": {},
     "output_type": "execute_result"
    }
   ],
   "source": [
    "# price field has object dtype due to $ character\n",
    "# Remove $ from beginning of each string\n",
    "calendar['price'] = calendar['price'].str.replace(\"$\", \"\")\n",
    "calendar['price'].value_counts()"
   ]
  },
  {
   "cell_type": "code",
   "execution_count": 1170,
   "metadata": {},
   "outputs": [
    {
     "data": {
      "text/plain": [
       "listing_id             int64\n",
       "date          datetime64[ns]\n",
       "available             object\n",
       "price                float64\n",
       "dtype: object"
      ]
     },
     "execution_count": 1170,
     "metadata": {},
     "output_type": "execute_result"
    }
   ],
   "source": [
    "# Convert price field to numeric\n",
    "calendar['price'] = pd.to_numeric(calendar['price'], errors= \"coerce\")\n",
    "calendar.dtypes # confirm change was successful"
   ]
  },
  {
   "cell_type": "markdown",
   "metadata": {},
   "source": [
    "Visualize the cleaned calendar data."
   ]
  },
  {
   "cell_type": "code",
   "execution_count": 1171,
   "metadata": {},
   "outputs": [
    {
     "data": {
      "image/png": "[encoded data removed]",
      "text/plain": [
       "<Figure size 640x480 with 1 Axes>"
      ]
     },
     "metadata": {},
     "output_type": "display_data"
    }
   ],
   "source": [
    "plt.hist(calendar['price']);\n",
    "# right skewed distribution"
   ]
  },
  {
   "cell_type": "code",
   "execution_count": 1172,
   "metadata": {},
   "outputs": [
    {
     "data": {
      "image/png": "[encoded data removed]",
      "text/plain": [
       "<Figure size 640x480 with 1 Axes>"
      ]
     },
     "metadata": {},
     "output_type": "display_data"
    }
   ],
   "source": [
    "plt.hist(calendar['available']);\n",
    "# Fairly equal distribution of T and F values"
   ]
  },
  {
   "cell_type": "code",
   "execution_count": 1173,
   "metadata": {},
   "outputs": [
    {
     "data": {
      "image/png": "[encoded data removed]",
      "text/plain": [
       "<Figure size 640x480 with 1 Axes>"
      ]
     },
     "metadata": {},
     "output_type": "display_data"
    }
   ],
   "source": [
    "plt.hist(calendar['listing_id']);\n",
    "# can't determine much from this distribution"
   ]
  },
  {
   "cell_type": "code",
   "execution_count": 1174,
   "metadata": {},
   "outputs": [
    {
     "data": {
      "image/png": "[encoded data removed]",
      "text/plain": [
       "<Figure size 640x480 with 1 Axes>"
      ]
     },
     "metadata": {},
     "output_type": "display_data"
    }
   ],
   "source": [
    "plt.hist(calendar['date']);\n",
    "# not helpful at all"
   ]
  },
  {
   "cell_type": "markdown",
   "metadata": {},
   "source": [
    "Question 1: How does seasonal variation impact Boston AirBnB booking prices?"
   ]
  },
  {
   "cell_type": "code",
   "execution_count": 1175,
   "metadata": {},
   "outputs": [
    {
     "data": {
      "text/html": [
       "<div>\n",
       "<style scoped>\n",
       "    .dataframe tbody tr th:only-of-type {\n",
       "        vertical-align: middle;\n",
       "    }\n",
       "\n",
       "    .dataframe tbody tr th {\n",
       "        vertical-align: top;\n",
       "    }\n",
       "\n",
       "    .dataframe thead th {\n",
       "        text-align: right;\n",
       "    }\n",
       "</style>\n",
       "<table border=\"1\" class=\"dataframe\">\n",
       "  <thead>\n",
       "    <tr style=\"text-align: right;\">\n",
       "      <th></th>\n",
       "      <th>listing_id</th>\n",
       "      <th>date</th>\n",
       "      <th>available</th>\n",
       "      <th>price</th>\n",
       "      <th>month</th>\n",
       "      <th>year</th>\n",
       "    </tr>\n",
       "  </thead>\n",
       "  <tbody>\n",
       "    <tr>\n",
       "      <th>0</th>\n",
       "      <td>12147973</td>\n",
       "      <td>2017-09-05</td>\n",
       "      <td>f</td>\n",
       "      <td>NaN</td>\n",
       "      <td>9</td>\n",
       "      <td>2017</td>\n",
       "    </tr>\n",
       "    <tr>\n",
       "      <th>1</th>\n",
       "      <td>12147973</td>\n",
       "      <td>2017-09-04</td>\n",
       "      <td>f</td>\n",
       "      <td>NaN</td>\n",
       "      <td>9</td>\n",
       "      <td>2017</td>\n",
       "    </tr>\n",
       "    <tr>\n",
       "      <th>2</th>\n",
       "      <td>12147973</td>\n",
       "      <td>2017-09-03</td>\n",
       "      <td>f</td>\n",
       "      <td>NaN</td>\n",
       "      <td>9</td>\n",
       "      <td>2017</td>\n",
       "    </tr>\n",
       "    <tr>\n",
       "      <th>3</th>\n",
       "      <td>12147973</td>\n",
       "      <td>2017-09-02</td>\n",
       "      <td>f</td>\n",
       "      <td>NaN</td>\n",
       "      <td>9</td>\n",
       "      <td>2017</td>\n",
       "    </tr>\n",
       "    <tr>\n",
       "      <th>4</th>\n",
       "      <td>12147973</td>\n",
       "      <td>2017-09-01</td>\n",
       "      <td>f</td>\n",
       "      <td>NaN</td>\n",
       "      <td>9</td>\n",
       "      <td>2017</td>\n",
       "    </tr>\n",
       "  </tbody>\n",
       "</table>\n",
       "</div>"
      ],
      "text/plain": [
       "   listing_id       date available  price  month  year\n",
       "0    12147973 2017-09-05         f    NaN      9  2017\n",
       "1    12147973 2017-09-04         f    NaN      9  2017\n",
       "2    12147973 2017-09-03         f    NaN      9  2017\n",
       "3    12147973 2017-09-02         f    NaN      9  2017\n",
       "4    12147973 2017-09-01         f    NaN      9  2017"
      ]
     },
     "execution_count": 1175,
     "metadata": {},
     "output_type": "execute_result"
    }
   ],
   "source": [
    "# use calendar dataset\n",
    "# extract month and year from 'date' column and store as new columns\n",
    "calendar['month'] = calendar['date'].dt.month\n",
    "calendar['year'] = calendar['date'].dt.year\n",
    "calendar.head()"
   ]
  },
  {
   "cell_type": "code",
   "execution_count": 1176,
   "metadata": {},
   "outputs": [
    {
     "data": {
      "text/plain": [
       "listing_id    0.000000\n",
       "date          0.000000\n",
       "available     0.000000\n",
       "price         0.510678\n",
       "month         0.000000\n",
       "year          0.000000\n",
       "dtype: float64"
      ]
     },
     "execution_count": 1176,
     "metadata": {},
     "output_type": "execute_result"
    }
   ],
   "source": [
    "calendar.isnull().mean()\n",
    "# 51% of the price values are null"
   ]
  },
  {
   "cell_type": "code",
   "execution_count": 1177,
   "metadata": {},
   "outputs": [
    {
     "data": {
      "text/html": [
       "<div>\n",
       "<style scoped>\n",
       "    .dataframe tbody tr th:only-of-type {\n",
       "        vertical-align: middle;\n",
       "    }\n",
       "\n",
       "    .dataframe tbody tr th {\n",
       "        vertical-align: top;\n",
       "    }\n",
       "\n",
       "    .dataframe thead th {\n",
       "        text-align: right;\n",
       "    }\n",
       "</style>\n",
       "<table border=\"1\" class=\"dataframe\">\n",
       "  <thead>\n",
       "    <tr style=\"text-align: right;\">\n",
       "      <th></th>\n",
       "      <th>listing_id</th>\n",
       "      <th>date</th>\n",
       "      <th>available</th>\n",
       "      <th>price</th>\n",
       "      <th>month</th>\n",
       "      <th>year</th>\n",
       "    </tr>\n",
       "  </thead>\n",
       "  <tbody>\n",
       "    <tr>\n",
       "      <th>0</th>\n",
       "      <td>12147973</td>\n",
       "      <td>2017-09-05</td>\n",
       "      <td>f</td>\n",
       "      <td>NaN</td>\n",
       "      <td>9</td>\n",
       "      <td>2017</td>\n",
       "    </tr>\n",
       "    <tr>\n",
       "      <th>1</th>\n",
       "      <td>12147973</td>\n",
       "      <td>2017-09-04</td>\n",
       "      <td>f</td>\n",
       "      <td>NaN</td>\n",
       "      <td>9</td>\n",
       "      <td>2017</td>\n",
       "    </tr>\n",
       "    <tr>\n",
       "      <th>2</th>\n",
       "      <td>12147973</td>\n",
       "      <td>2017-09-03</td>\n",
       "      <td>f</td>\n",
       "      <td>NaN</td>\n",
       "      <td>9</td>\n",
       "      <td>2017</td>\n",
       "    </tr>\n",
       "    <tr>\n",
       "      <th>3</th>\n",
       "      <td>12147973</td>\n",
       "      <td>2017-09-02</td>\n",
       "      <td>f</td>\n",
       "      <td>NaN</td>\n",
       "      <td>9</td>\n",
       "      <td>2017</td>\n",
       "    </tr>\n",
       "    <tr>\n",
       "      <th>4</th>\n",
       "      <td>12147973</td>\n",
       "      <td>2017-09-01</td>\n",
       "      <td>f</td>\n",
       "      <td>NaN</td>\n",
       "      <td>9</td>\n",
       "      <td>2017</td>\n",
       "    </tr>\n",
       "  </tbody>\n",
       "</table>\n",
       "</div>"
      ],
      "text/plain": [
       "   listing_id       date available  price  month  year\n",
       "0    12147973 2017-09-05         f    NaN      9  2017\n",
       "1    12147973 2017-09-04         f    NaN      9  2017\n",
       "2    12147973 2017-09-03         f    NaN      9  2017\n",
       "3    12147973 2017-09-02         f    NaN      9  2017\n",
       "4    12147973 2017-09-01         f    NaN      9  2017"
      ]
     },
     "execution_count": 1177,
     "metadata": {},
     "output_type": "execute_result"
    }
   ],
   "source": [
    "# filter out available AirBnBs so that we're only looking at booked records\n",
    "calendar_booked = calendar[calendar['available'] == 'f']\n",
    "calendar_booked.head()"
   ]
  },
  {
   "cell_type": "code",
   "execution_count": 1178,
   "metadata": {},
   "outputs": [
    {
     "data": {
      "text/plain": [
       "listing_id    0.0\n",
       "date          0.0\n",
       "available     0.0\n",
       "price         1.0\n",
       "month         0.0\n",
       "year          0.0\n",
       "dtype: float64"
      ]
     },
     "execution_count": 1178,
     "metadata": {},
     "output_type": "execute_result"
    }
   ],
   "source": [
    "calendar_booked.isnull().mean()\n",
    "# 100% of price values are null for records where available = f\n",
    "# this makes sense because the property is unavailable, so there is no price to rent"
   ]
  },
  {
   "cell_type": "code",
   "execution_count": 1179,
   "metadata": {},
   "outputs": [
    {
     "data": {
      "text/html": [
       "<div>\n",
       "<style scoped>\n",
       "    .dataframe tbody tr th:only-of-type {\n",
       "        vertical-align: middle;\n",
       "    }\n",
       "\n",
       "    .dataframe tbody tr th {\n",
       "        vertical-align: top;\n",
       "    }\n",
       "\n",
       "    .dataframe thead th {\n",
       "        text-align: right;\n",
       "    }\n",
       "</style>\n",
       "<table border=\"1\" class=\"dataframe\">\n",
       "  <thead>\n",
       "    <tr style=\"text-align: right;\">\n",
       "      <th></th>\n",
       "      <th>listing_id</th>\n",
       "      <th>date</th>\n",
       "      <th>available</th>\n",
       "      <th>price</th>\n",
       "      <th>month</th>\n",
       "      <th>year</th>\n",
       "    </tr>\n",
       "  </thead>\n",
       "  <tbody>\n",
       "    <tr>\n",
       "      <th>365</th>\n",
       "      <td>3075044</td>\n",
       "      <td>2017-08-22</td>\n",
       "      <td>t</td>\n",
       "      <td>65.0</td>\n",
       "      <td>8</td>\n",
       "      <td>2017</td>\n",
       "    </tr>\n",
       "    <tr>\n",
       "      <th>366</th>\n",
       "      <td>3075044</td>\n",
       "      <td>2017-08-21</td>\n",
       "      <td>t</td>\n",
       "      <td>65.0</td>\n",
       "      <td>8</td>\n",
       "      <td>2017</td>\n",
       "    </tr>\n",
       "    <tr>\n",
       "      <th>367</th>\n",
       "      <td>3075044</td>\n",
       "      <td>2017-08-20</td>\n",
       "      <td>t</td>\n",
       "      <td>65.0</td>\n",
       "      <td>8</td>\n",
       "      <td>2017</td>\n",
       "    </tr>\n",
       "    <tr>\n",
       "      <th>368</th>\n",
       "      <td>3075044</td>\n",
       "      <td>2017-08-19</td>\n",
       "      <td>t</td>\n",
       "      <td>75.0</td>\n",
       "      <td>8</td>\n",
       "      <td>2017</td>\n",
       "    </tr>\n",
       "    <tr>\n",
       "      <th>369</th>\n",
       "      <td>3075044</td>\n",
       "      <td>2017-08-18</td>\n",
       "      <td>t</td>\n",
       "      <td>75.0</td>\n",
       "      <td>8</td>\n",
       "      <td>2017</td>\n",
       "    </tr>\n",
       "  </tbody>\n",
       "</table>\n",
       "</div>"
      ],
      "text/plain": [
       "     listing_id       date available  price  month  year\n",
       "365     3075044 2017-08-22         t   65.0      8  2017\n",
       "366     3075044 2017-08-21         t   65.0      8  2017\n",
       "367     3075044 2017-08-20         t   65.0      8  2017\n",
       "368     3075044 2017-08-19         t   75.0      8  2017\n",
       "369     3075044 2017-08-18         t   75.0      8  2017"
      ]
     },
     "execution_count": 1179,
     "metadata": {},
     "output_type": "execute_result"
    }
   ],
   "source": [
    "calendar_available = calendar[calendar['available'] == 't']\n",
    "calendar_available.head()"
   ]
  },
  {
   "cell_type": "code",
   "execution_count": 1180,
   "metadata": {},
   "outputs": [
    {
     "data": {
      "text/plain": [
       "listing_id       0\n",
       "date             0\n",
       "available        0\n",
       "price         2568\n",
       "month            0\n",
       "year             0\n",
       "dtype: int64"
      ]
     },
     "execution_count": 1180,
     "metadata": {},
     "output_type": "execute_result"
    }
   ],
   "source": [
    "calendar_available.isnull().mean()\n",
    "# only 0.3% of price values are null for dates when the property is available\n",
    "calendar_available.isnull().sum()\n"
   ]
  },
  {
   "cell_type": "code",
   "execution_count": null,
   "metadata": {},
   "outputs": [
    {
     "data": {
      "image/png": "[encoded data removed]",
      "text/plain": [
       "<Figure size 640x480 with 1 Axes>"
      ]
     },
     "metadata": {},
     "output_type": "display_data"
    }
   ],
   "source": [
    "# plot the average price by month\n",
    "mean_monthly_price = calendar.groupby('month')['price'].mean().reset_index()\n",
    "plt.plot(mean_monthly_price['month'], mean_monthly_price['price'], marker = 'o')\n",
    "plt.title('Average Price by Month for a Boston AirBnB')\n",
    "plt.xlabel('Month')\n",
    "plt.ylabel('Average Price')\n",
    "plt.xticks(np.arange(1, 13, 1))\n",
    "plt.tight_layout()\n",
    "plt.show()\n",
    "# highest average prices are in september and october, respectively"
   ]
  },
  {
   "cell_type": "markdown",
   "metadata": {},
   "source": [
    "Get familiar with listings file. "
   ]
  },
  {
   "cell_type": "code",
   "execution_count": null,
   "metadata": {},
   "outputs": [],
   "source": [
    "# Open listings data file\n",
    "listings_path = r\"C:\\Users\\emma1\\Project_1_Data-Science-Blog\\Boston Airbnb Open Data\\listings.csv\"\n",
    "listings = pd.read_csv(listings_path)\n",
    "# View top five rows\n",
    "print(listings.head()) # lots of data here"
   ]
  },
  {
   "cell_type": "code",
   "execution_count": null,
   "metadata": {},
   "outputs": [],
   "source": [
    "# How big is this dataset?\n",
    "listings.shape # 95 columns : 3,585 rows"
   ]
  },
  {
   "cell_type": "code",
   "execution_count": null,
   "metadata": {},
   "outputs": [],
   "source": [
    "listings.columns # look at column names"
   ]
  },
  {
   "cell_type": "code",
   "execution_count": null,
   "metadata": {},
   "outputs": [],
   "source": [
    "listings.describe(include='all')"
   ]
  },
  {
   "cell_type": "code",
   "execution_count": null,
   "metadata": {},
   "outputs": [],
   "source": [
    "# How many nulls? What proportion of nulls? What are the column types?\n",
    "for column in listings.columns:\n",
    "    num_null = listings[column].isnull().sum()\n",
    "    prop_null = listings[column].isnull().mean()\n",
    "    col_type = listings[column].dtype\n",
    "    print(column + \":\" + str(num_null) + \",\" + str(prop_null) + \",\" + str(col_type))"
   ]
  },
  {
   "cell_type": "markdown",
   "metadata": {},
   "source": [
    "Clean up listings file."
   ]
  },
  {
   "cell_type": "code",
   "execution_count": 898,
   "metadata": {},
   "outputs": [],
   "source": [
    "# Drop text-heavy columns (not sure how to clean these up for this analysis)\n",
    "# Drop URL fields\n",
    "# Remove location fields unlikely to be helpful in analysis\n",
    "# Lat and Long \n",
    "listings_filtered['country'].value_counts()\n",
    "# country has one value: United States\n",
    "listings_filtered['country_code'].value_counts()\n",
    "# country_code has one value: US\n",
    "# street\n",
    "listings_filtered['state'].value_counts()\n",
    "# state has one value: MA\n",
    "listings_filtered['market'].value_counts()\n",
    "# most in Boston, but 1 in San Francisco, 1 in Other (Domestic), and 1 in Other (International)\n",
    "# city, zipcode, smart_location, neighbourhood, and neighbourhood_cleansed all contain similar info - keep only one\n",
    "# is_location_exact doesn't seem particularly helpful\n",
    "listings_filtered['jurisdiction_names'].isnull().mean()\n",
    "# all values are null\n",
    "\n",
    "# Remove additional fields with negligent value in analysis\n",
    "listings_filtered['last_scraped'].value_counts()\n",
    "# last_scraped has one value: 2016-09-07\n",
    "listings_filtered['calendar_last_scraped'].value_counts()\n",
    "# calendar_last_scraped has one value:2016-09-06\n",
    "listings_filtered['scrape_id'].value_counts()\n",
    "# scrape_id has one value:20160906204935\n",
    "listings_filtered['experiences_offered'].value_counts()\n",
    "# experiences_offered has one value: none\n",
    "listings_filtered['id'].value_counts()\n",
    "# every id appears only once\n",
    "# host_id\n",
    "listings_filtered['has_availability'].isnull().mean()\n",
    "listings_filtered['neighbourhood_group_cleansed'].isnull().mean()\n",
    "listings_filtered['license'].isnull().mean()\n",
    "# all rows are null\n",
    "# not too interested in host_location or host_neighbourhood\n",
    "\n",
    "listings_filtered = listings.drop(['description', 'summary', 'space', 'neighborhood_overview', 'notes', \n",
    "                                   'transit', 'access', 'interaction', 'house_rules', 'host_about', \n",
    "                                   'name', 'host_name', 'host_verifications', 'amenities',\n",
    "                                   'host_thumbnail_url', 'listing_url', 'thumbnail_url', 'host_url', \n",
    "                                   'host_picture_url', 'medium_url', 'picture_url', 'xl_picture_url',\n",
    "                                   'latitude', 'longitude', 'country', 'country_code', 'street', 'state', \n",
    "                                   'market', 'neighbourhood', 'smart_location', 'is_location_exact', 'city', \n",
    "                                   'zipcode', 'jurisdiction_names', 'last_scraped', 'calendar_last_scraped', \n",
    "                                   'scrape_id', 'id', 'experiences_offered', 'host_id', 'has_availability', \n",
    "                                   'neighbourhood_group_cleansed', 'license', 'host_location',\n",
    "                                   'host_neighbourhood'], axis = 1)"
   ]
  },
  {
   "cell_type": "code",
   "execution_count": null,
   "metadata": {},
   "outputs": [],
   "source": [
    "# Let's recheck:\n",
    "# How many nulls? What proportion of nulls? What are the column types?\n",
    "for column in listings_filtered.columns:\n",
    "    num_null = listings_filtered[column].isnull().sum()\n",
    "    prop_null = listings_filtered[column].isnull().mean()\n",
    "    col_type = listings_filtered[column].dtype\n",
    "    print(column + \":\" + str(num_null) + \",\" + str(prop_null) + \",\" + str(col_type))"
   ]
  },
  {
   "cell_type": "code",
   "execution_count": null,
   "metadata": {},
   "outputs": [],
   "source": [
    "listings_filtered.columns"
   ]
  },
  {
   "cell_type": "code",
   "execution_count": null,
   "metadata": {},
   "outputs": [],
   "source": [
    "# Why are price fields considered object type? Let's fix this.\n",
    "listings_filtered[['weekly_price', 'monthly_price', 'security_deposit', 'cleaning_fee']].head()"
   ]
  },
  {
   "cell_type": "code",
   "execution_count": null,
   "metadata": {},
   "outputs": [],
   "source": [
    "# price field has object dtype due to $ character\n",
    "# Remove $ from beginning of each string\n",
    "listings_filtered['weekly_price'] = listings_filtered['weekly_price'].str.replace(\"$\", \"\")\n",
    "listings_filtered['monthly_price'] = listings_filtered['monthly_price'].str.replace(\"$\", \"\")\n",
    "listings_filtered['security_deposit'] = listings_filtered['security_deposit'].str.replace(\"$\", \"\")\n",
    "listings_filtered['cleaning_fee'] = listings_filtered['cleaning_fee'].str.replace(\"$\", \"\")\n",
    "listings_filtered['extra_people'] = listings_filtered['extra_people'].str.replace(\"$\", \"\")\n",
    "listings_filtered['price'] = listings_filtered['price'].str.replace(\"$\", \"\")\n",
    "\n",
    "listings_filtered[['weekly_price', 'monthly_price', 'security_deposit', \n",
    "                   'cleaning_fee', 'extra_people', 'price']].head() # confirm changes worked correctly"
   ]
  },
  {
   "cell_type": "code",
   "execution_count": null,
   "metadata": {},
   "outputs": [],
   "source": [
    "# Why is host response rate an object?\n",
    "listings_filtered['host_response_rate'].head()"
   ]
  },
  {
   "cell_type": "code",
   "execution_count": null,
   "metadata": {},
   "outputs": [],
   "source": [
    "# host_response_rate field has object dtype due to % character\n",
    "# Remove % from end of each string\n",
    "listings_filtered['host_response_rate'] = listings_filtered['host_response_rate'].str.replace(\"%\", \"\")\n",
    "\n",
    "listings_filtered['host_response_rate'].head() # confirm changes worked correctly"
   ]
  },
  {
   "cell_type": "code",
   "execution_count": null,
   "metadata": {},
   "outputs": [],
   "source": [
    "# Why is host acceptance rate an object?\n",
    "listings_filtered['host_acceptance_rate'].head()"
   ]
  },
  {
   "cell_type": "code",
   "execution_count": null,
   "metadata": {},
   "outputs": [],
   "source": [
    "# host_acceptance_rate field has object dtype due to % character\n",
    "# Remove % from end of each string\n",
    "listings_filtered['host_acceptance_rate'] = listings_filtered['host_acceptance_rate'].str.replace(\"%\", \"\")\n",
    "\n",
    "listings_filtered['host_acceptance_rate'].head() # confirm changes worked correctly"
   ]
  },
  {
   "cell_type": "code",
   "execution_count": null,
   "metadata": {},
   "outputs": [],
   "source": [
    "# Convert price and fee fields to numeric type\n",
    "listings_filtered['weekly_price'] = pd.to_numeric(listings_filtered['weekly_price'], errors= \"coerce\")\n",
    "listings_filtered['monthly_price'] = pd.to_numeric(listings_filtered['monthly_price'], errors= \"coerce\")\n",
    "listings_filtered['security_deposit'] = pd.to_numeric(listings_filtered['security_deposit'], errors= \"coerce\")\n",
    "listings_filtered['cleaning_fee'] = pd.to_numeric(listings_filtered['cleaning_fee'], errors= \"coerce\")\n",
    "listings_filtered['extra_people'] = pd.to_numeric(listings_filtered['extra_people'], errors= \"coerce\")\n",
    "listings_filtered['price'] = pd.to_numeric(listings_filtered['price'], errors= \"coerce\")\n",
    "\n",
    "\n",
    "# Convert host_response_rate and host_acceptance_rate to numeric type\n",
    "listings_filtered['host_response_rate'] = pd.to_numeric(listings_filtered['host_response_rate'], errors= \"coerce\")\n",
    "listings_filtered['host_acceptance_rate'] = pd.to_numeric(listings_filtered['host_acceptance_rate'], errors= \"coerce\")\n",
    "\n",
    "\n",
    "listings_filtered.dtypes # confirm change was successful"
   ]
  },
  {
   "cell_type": "code",
   "execution_count": null,
   "metadata": {},
   "outputs": [],
   "source": [
    "# Post-filtering and cleaning: How many nulls? What proportion of nulls? What are the column types?\n",
    "for column in listings_filtered.columns:\n",
    "    num_null = listings_filtered[column].isnull().sum()\n",
    "    prop_null = listings_filtered[column].isnull().mean()\n",
    "    col_type = listings_filtered[column].dtype\n",
    "    if num_null > 0:\n",
    "        print(column + \":\" + str(num_null) + \",\" + str(prop_null) + \",\" + str(col_type))\n",
    "    else:\n",
    "        continue"
   ]
  },
  {
   "cell_type": "markdown",
   "metadata": {},
   "source": [
    "Question 2: Which property characteristics are the best predictors of price?"
   ]
  },
  {
   "cell_type": "markdown",
   "metadata": {},
   "source": [
    "Impute missing values for numeric fields."
   ]
  },
  {
   "cell_type": "code",
   "execution_count": null,
   "metadata": {},
   "outputs": [],
   "source": [
    "listings_num_vars = listings_filtered.select_dtypes(include=['float', 'int']).columns\n",
    "for col in listings_num_vars:\n",
    "    listings_filtered[col].fillna((listings_filtered[col].mean()), inplace = True)"
   ]
  },
  {
   "cell_type": "code",
   "execution_count": null,
   "metadata": {},
   "outputs": [],
   "source": [
    "# Post-filtering and cleaning: How many nulls? What proportion of nulls? What are the column types?\n",
    "for column in listings_filtered.columns:\n",
    "    num_null = listings_filtered[column].isnull().sum()\n",
    "    prop_null = listings_filtered[column].isnull().mean()\n",
    "    col_type = listings_filtered[column].dtype\n",
    "    if num_null > 0:\n",
    "        print(column + \":\" + str(num_null) + \",\" + str(prop_null) + \",\" + str(col_type))\n",
    "    else:\n",
    "        continue"
   ]
  },
  {
   "cell_type": "markdown",
   "metadata": {},
   "source": [
    "Get familiar with reviews file."
   ]
  },
  {
   "cell_type": "code",
   "execution_count": null,
   "metadata": {},
   "outputs": [],
   "source": [
    "# Import reviews dataset\n",
    "reviews_path = r\"C:\\Users\\emma1\\Project_1_Data-Science-Blog\\Boston Airbnb Open Data\\reviews.csv\"\n",
    "reviews = pd.read_csv(reviews_path)\n",
    "\n",
    "# View top five rows\n",
    "print(reviews.head())"
   ]
  },
  {
   "cell_type": "code",
   "execution_count": null,
   "metadata": {},
   "outputs": [],
   "source": [
    "# How big is this dataset?\n",
    "reviews.shape # 6 columns : 68,275 rows"
   ]
  },
  {
   "cell_type": "code",
   "execution_count": null,
   "metadata": {},
   "outputs": [],
   "source": [
    "reviews.value_counts()"
   ]
  },
  {
   "cell_type": "code",
   "execution_count": null,
   "metadata": {},
   "outputs": [],
   "source": [
    "reviews.isnull().mean()\n",
    "reviews.isnull().sum()\n",
    "# 53 rows missing comments - no way to impute values"
   ]
  },
  {
   "cell_type": "code",
   "execution_count": null,
   "metadata": {},
   "outputs": [],
   "source": [
    "reviews['reviewer_id'].value_counts()\n",
    "# not sure what to do with this information...looks like the listings file will be more useful for modeling"
   ]
  },
  {
   "cell_type": "code",
   "execution_count": null,
   "metadata": {},
   "outputs": [],
   "source": [
    "listings_filtered.columns"
   ]
  },
  {
   "cell_type": "code",
   "execution_count": 922,
   "metadata": {},
   "outputs": [],
   "source": [
    "prop_char = listings_filtered[['neighbourhood_cleansed', 'property_type',\n",
    "       'room_type', 'accommodates', 'bathrooms', 'bedrooms', 'beds',\n",
    "       'bed_type', 'square_feet', 'price',\n",
    "       'security_deposit', 'cleaning_fee', 'guests_included', 'extra_people',\n",
    "       'minimum_nights', 'maximum_nights', 'cancellation_policy']]"
   ]
  },
  {
   "cell_type": "code",
   "execution_count": null,
   "metadata": {},
   "outputs": [],
   "source": [
    "prop_char.head()"
   ]
  },
  {
   "cell_type": "code",
   "execution_count": null,
   "metadata": {},
   "outputs": [],
   "source": [
    "y = prop_char['price']\n",
    "prop_drop = prop_char.drop(['price'], axis = 1)\n",
    "num_vars = prop_drop.select_dtypes(include = ['float', 'int']).columns\n",
    "cat_vars = prop_drop.select_dtypes(include = ['object']).copy().columns\n"
   ]
  },
  {
   "cell_type": "code",
   "execution_count": null,
   "metadata": {},
   "outputs": [],
   "source": [
    "fig, axes = plt.subplots(5, 2, figsize = (20, 30))\n",
    "axes[0, 0].scatter(listings_filtered['host_response_rate'], listings_filtered['price'])\n",
    "axes[0, 0].set_title('Host Response v. Price')\n",
    "axes[0, 0].set_xlabel('Host Response Rate')\n",
    "axes[0, 0].set_ylabel('Price')\n",
    "# weak, possibly non-linear, positive correlation\n",
    "axes[0, 1].scatter(listings_filtered['review_scores_value'], listings_filtered['price'])\n",
    "axes[0, 1].set_title('Price v. Review Value')\n",
    "axes[0, 1].set_xlabel('Price')\n",
    "# weak, possibly non-linear, positive correlation\n",
    "axes[1, 0].scatter(listings_filtered['calculated_host_listings_count'], listings_filtered['price'])\n",
    "# does not appear to be any relationship\n",
    "axes[1, 1].scatter(listings_filtered['bedrooms'], listings_filtered['price'])\n",
    "# unclear correlation\n",
    "axes[2, 0].scatter(listings_filtered['bathrooms'], listings_filtered['price'])\n",
    "# unclear correlation\n",
    "axes[2, 1].scatter(listings_filtered['number_of_reviews'], listings_filtered['price'])\n",
    "# possible non-linear negative correlation\n",
    "axes[3, 0].scatter(listings_filtered['host_acceptance_rate'], listings_filtered['price'])\n",
    "# possible non-linear positive correlation\n",
    "axes[3, 1].scatter(listings_filtered['accommodates'], listings_filtered['price'])\n",
    "# unclear correlation\n",
    "axes[4, 0].scatter(listings_filtered['availability_365'], listings_filtered['price'])\n",
    "# possible non-linear correlation\n",
    "axes[4, 1].scatter(listings_filtered['square_feet'], listings_filtered['price'])\n",
    "# weak positive correlation"
   ]
  },
  {
   "cell_type": "code",
   "execution_count": null,
   "metadata": {},
   "outputs": [],
   "source": [
    "fig, axes = plt.subplots(5, 2, figsize = (20, 30))\n",
    "axes[0, 0].scatter(listings_filtered['host_response_rate'], listings_filtered['review_scores_rating'])\n",
    "axes[0, 0].set_title('Host Response v. Review Rating')\n",
    "axes[0, 0].set_xlabel('Host Response Rate')\n",
    "axes[0, 0].set_ylabel('Review Scores Rating')\n",
    "# does not appear to be a strong relationship, possible non-linear negative correlation?\n",
    "axes[0, 1].scatter(listings_filtered['price'], listings_filtered['review_scores_rating'])\n",
    "axes[0, 1].set_title('Price v. Review Rating')\n",
    "axes[0, 1].set_xlabel('Price')\n",
    "# appears to be a non-linear positive correlation\n",
    "axes[1, 0].scatter(listings_filtered['calculated_host_listings_count'], listings_filtered['review_scores_rating'])\n",
    "# does not appear to be any relationship\n",
    "axes[1, 1].scatter(listings_filtered['bedrooms'], listings_filtered['review_scores_rating'])\n",
    "# some positive correlation\n",
    "axes[2, 0].scatter(listings_filtered['bathrooms'], listings_filtered['review_scores_rating'])\n",
    "# some positive correlation\n",
    "axes[2, 1].scatter(listings_filtered['number_of_reviews'], listings_filtered['review_scores_rating'])\n",
    "# possible non-linear positive correlation\n",
    "axes[3, 0].scatter(listings_filtered['host_acceptance_rate'], listings_filtered['review_scores_rating'])\n",
    "# possible non-linear negative correlation\n",
    "axes[3, 1].scatter(listings_filtered['accommodates'], listings_filtered['review_scores_rating'])\n",
    "# possible non-linear positive correlation\n",
    "axes[4, 0].scatter(listings_filtered['availability_365'], listings_filtered['review_scores_rating'])\n",
    "# no apparent correlation\n",
    "axes[4, 1].scatter(listings_filtered['square_feet'], listings_filtered['review_scores_rating'])\n"
   ]
  },
  {
   "cell_type": "code",
   "execution_count": null,
   "metadata": {},
   "outputs": [],
   "source": [
    "listings_filtered['property_type'].value_counts()"
   ]
  },
  {
   "cell_type": "code",
   "execution_count": null,
   "metadata": {},
   "outputs": [],
   "source": [
    "fig, axes = plt.subplots(2, 2, figsize = (10, 5))\n",
    "listings_filtered.sort_values(by='price')\n",
    "\n",
    "axes[0,0].bar(listings_filtered['bed_type'], listings_filtered['review_scores_rating'])\n",
    "axes[0,1].bar(listings_filtered['neighbourhood_cleansed'], listings_filtered['review_scores_rating'])\n",
    "axes[1,1].bar(listings_filtered['neighbourhood_cleansed'], listings_filtered['price'])\n",
    "axes[1,1].tick_params(axis = 'x', rotation=90)\n",
    "# certain neighborhoods appear to have higher prices\n",
    "axes[1,0].bar(listings_filtered['property_type'], listings_filtered['price'])\n",
    "\n"
   ]
  },
  {
   "cell_type": "code",
   "execution_count": null,
   "metadata": {},
   "outputs": [],
   "source": [
    "dtypes = listings.dtypes\n",
    "dtypes\n",
    "l_num_vars = listings.select_dtypes(include='number')\n",
    "l_num_vars.columns\n"
   ]
  },
  {
   "cell_type": "code",
   "execution_count": null,
   "metadata": {},
   "outputs": [],
   "source": [
    "# Do hosts with more listings have higher ratings?\n",
    "\n",
    "plt.scatter(l_num_vars['host_listings_count'], l_num_vars['review_scores_rating']); # not a strong correlation or relationship"
   ]
  },
  {
   "cell_type": "code",
   "execution_count": null,
   "metadata": {},
   "outputs": [],
   "source": [
    "# Do hosts with more monthly reviews have higher ratings?\n",
    "\n",
    "plt.scatter(l_num_vars['reviews_per_month'], l_num_vars['review_scores_rating']); # apparent positive but non-linear relationship"
   ]
  },
  {
   "cell_type": "code",
   "execution_count": null,
   "metadata": {},
   "outputs": [],
   "source": [
    "l_num_vars[['availability_30', 'availability_60', 'availability_90', 'availability_365', 'has_availability']].head()"
   ]
  },
  {
   "cell_type": "code",
   "execution_count": null,
   "metadata": {},
   "outputs": [],
   "source": [
    "plt.subplot(l_num_vars['reviews_per_month'], l_num_vars[['availability_30', 'availability_60', 'availability_90', 'availability_365', 'has_availability']]);"
   ]
  },
  {
   "cell_type": "markdown",
   "metadata": {},
   "source": [
    "Question 2: How do fees impact bookings?"
   ]
  },
  {
   "cell_type": "code",
   "execution_count": null,
   "metadata": {},
   "outputs": [],
   "source": []
  },
  {
   "cell_type": "markdown",
   "metadata": {},
   "source": [
    "Question 3: How do host characteristics impact bookings and reviews?"
   ]
  },
  {
   "cell_type": "code",
   "execution_count": null,
   "metadata": {},
   "outputs": [],
   "source": []
  }
 ],
 "metadata": {
  "kernelspec": {
   "display_name": ".venv",
   "language": "python",
   "name": "python3"
  },
  "language_info": {
   "codemirror_mode": {
    "name": "ipython",
    "version": 3
   },
   "file_extension": ".py",
   "mimetype": "text/x-python",
   "name": "python",
   "nbconvert_exporter": "python",
   "pygments_lexer": "ipython3",
   "version": "3.13.1"
  }
 },
 "nbformat": 4,
 "nbformat_minor": 2
}
