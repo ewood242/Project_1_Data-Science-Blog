{
 "cells": [
  {
   "cell_type": "markdown",
   "metadata": {},
   "source": [
    "Project 1: Writing a Data Scientist Blog Post"
   ]
  },
  {
   "cell_type": "markdown",
   "metadata": {},
   "source": [
    "Section 1: Business Understanding\n",
    "\n",
    "This notebook will analyze Boston Airbnb Data to answer the following three questions:\n",
    "1. How does seasonal variation impact Boston AirBnB booking prices?\n",
    "2. What are the most common amenities for Boston AirBnB properties?\n",
    "3. Which neighborhood has the most AirBnB properties and how does that correlate to pricing?"
   ]
  },
  {
   "cell_type": "markdown",
   "metadata": {},
   "source": [
    "Import required packages:"
   ]
  },
  {
   "cell_type": "code",
   "execution_count": 436,
   "metadata": {},
   "outputs": [],
   "source": [
    "import pandas as pd\n",
    "import matplotlib.pyplot as plt\n",
    "%matplotlib inline\n",
    "import seaborn as sns"
   ]
  },
  {
   "cell_type": "markdown",
   "metadata": {},
   "source": [
    "Section 2: Data Understanding"
   ]
  },
  {
   "cell_type": "markdown",
   "metadata": {},
   "source": [
    "Get familiar with the contents of the calendar file."
   ]
  },
  {
   "cell_type": "code",
   "execution_count": null,
   "metadata": {},
   "outputs": [],
   "source": [
    "# Open calendar data file\n",
    "calendar_path = r\"C:\\Users\\emma1\\Project_1_Data-Science-Blog\\Boston Airbnb Open Data\\calendar.csv\"\n",
    "calendar = pd.read_csv(calendar_path)\n",
    "# View top five rows\n",
    "calendar.head()"
   ]
  },
  {
   "cell_type": "code",
   "execution_count": null,
   "metadata": {},
   "outputs": [],
   "source": [
    "# How big is the dataset?\n",
    "calendar.shape # 4 columns : 1,308,890 rows of data"
   ]
  },
  {
   "cell_type": "code",
   "execution_count": null,
   "metadata": {},
   "outputs": [],
   "source": [
    "# What data types are included in this dataset?\n",
    "calendar.dtypes # Why is price listed as an object?"
   ]
  },
  {
   "cell_type": "code",
   "execution_count": null,
   "metadata": {},
   "outputs": [],
   "source": [
    "# Count null values\n",
    "calendar.isnull().sum() # 665,853 null values in price column"
   ]
  },
  {
   "cell_type": "code",
   "execution_count": null,
   "metadata": {},
   "outputs": [],
   "source": [
    "# Determine proportion of null values\n",
    "calendar.isnull().mean() # 50.8716% null values in price column"
   ]
  },
  {
   "cell_type": "code",
   "execution_count": null,
   "metadata": {},
   "outputs": [],
   "source": [
    "# Look at descriptive statistics for each field\n",
    "calendar.describe(include='all') # statistics not very useful - only listing_id is an int field, others are object fields"
   ]
  },
  {
   "cell_type": "markdown",
   "metadata": {},
   "source": [
    "Get familiar with reviews file."
   ]
  },
  {
   "cell_type": "code",
   "execution_count": null,
   "metadata": {},
   "outputs": [],
   "source": [
    "# Import reviews dataset\n",
    "reviews_path = r\"C:\\Users\\emma1\\Project_1_Data-Science-Blog\\Boston Airbnb Open Data\\reviews.csv\"\n",
    "reviews = pd.read_csv(reviews_path)\n",
    "\n",
    "# View top five rows\n",
    "print(reviews.head())"
   ]
  },
  {
   "cell_type": "code",
   "execution_count": null,
   "metadata": {},
   "outputs": [],
   "source": [
    "# How big is this dataset?\n",
    "reviews.shape # 6 columns : 68,275 rows"
   ]
  },
  {
   "cell_type": "code",
   "execution_count": null,
   "metadata": {},
   "outputs": [],
   "source": [
    "reviews.value_counts()"
   ]
  },
  {
   "cell_type": "code",
   "execution_count": null,
   "metadata": {},
   "outputs": [],
   "source": [
    "reviews.isnull().mean()\n",
    "reviews.isnull().sum()\n",
    "# 53 rows missing comments - no way to impute values"
   ]
  },
  {
   "cell_type": "code",
   "execution_count": null,
   "metadata": {},
   "outputs": [],
   "source": [
    "reviews['reviewer_id'].value_counts()\n",
    "# not sure what to do with this information...looks like the listings file will provide more insight"
   ]
  },
  {
   "cell_type": "markdown",
   "metadata": {},
   "source": [
    "Get familiar with the listings file. "
   ]
  },
  {
   "cell_type": "code",
   "execution_count": null,
   "metadata": {},
   "outputs": [],
   "source": [
    "# Open listings data file\n",
    "listings_path = r\"C:\\Users\\emma1\\Project_1_Data-Science-Blog\\Boston Airbnb Open Data\\listings.csv\"\n",
    "listings = pd.read_csv(listings_path)\n",
    "# View top five rows\n",
    "print(listings.head()) # lots of data here"
   ]
  },
  {
   "cell_type": "code",
   "execution_count": null,
   "metadata": {},
   "outputs": [],
   "source": [
    "# How big is this dataset?\n",
    "listings.shape # 95 columns : 3,585 rows"
   ]
  },
  {
   "cell_type": "code",
   "execution_count": null,
   "metadata": {},
   "outputs": [],
   "source": [
    "listings.columns # look at column names"
   ]
  },
  {
   "cell_type": "code",
   "execution_count": null,
   "metadata": {},
   "outputs": [],
   "source": [
    "listings.describe(include='all')"
   ]
  },
  {
   "cell_type": "code",
   "execution_count": null,
   "metadata": {},
   "outputs": [],
   "source": [
    "# How many nulls? What proportion of nulls? What are the column types?\n",
    "for column in listings.columns:\n",
    "    num_null = listings[column].isnull().sum()\n",
    "    prop_null = listings[column].isnull().mean()\n",
    "    col_type = listings[column].dtype\n",
    "    print(column + \":\" + str(num_null) + \",\" + str(prop_null) + \",\" + str(col_type))"
   ]
  },
  {
   "cell_type": "markdown",
   "metadata": {},
   "source": [
    "Section 3: Data Preparation"
   ]
  },
  {
   "cell_type": "markdown",
   "metadata": {},
   "source": [
    "Clean up calendar file."
   ]
  },
  {
   "cell_type": "code",
   "execution_count": null,
   "metadata": {},
   "outputs": [],
   "source": [
    "# Change date field from object to datetime\n",
    "calendar['date'] = pd.to_datetime(calendar['date'])\n",
    "calendar.dtypes # confirm change was successful"
   ]
  },
  {
   "cell_type": "code",
   "execution_count": null,
   "metadata": {},
   "outputs": [],
   "source": [
    "# price field has object dtype due to $ character\n",
    "# Remove $ from beginning of each string\n",
    "calendar['price'] = calendar['price'].str.replace(\"$\", \"\")\n",
    "calendar['price'].value_counts()"
   ]
  },
  {
   "cell_type": "code",
   "execution_count": null,
   "metadata": {},
   "outputs": [],
   "source": [
    "# Convert price field to numeric\n",
    "calendar['price'] = pd.to_numeric(calendar['price'], errors= \"coerce\")\n",
    "calendar.dtypes # confirm change was successful"
   ]
  },
  {
   "cell_type": "markdown",
   "metadata": {},
   "source": [
    "Visualize the cleaned calendar data."
   ]
  },
  {
   "cell_type": "code",
   "execution_count": null,
   "metadata": {},
   "outputs": [],
   "source": [
    "plt.hist(calendar['price']);\n",
    "# right skewed distribution"
   ]
  },
  {
   "cell_type": "code",
   "execution_count": null,
   "metadata": {},
   "outputs": [],
   "source": [
    "plt.hist(calendar['available']);\n",
    "# Fairly equal distribution of T and F values"
   ]
  },
  {
   "cell_type": "code",
   "execution_count": null,
   "metadata": {},
   "outputs": [],
   "source": [
    "plt.hist(calendar['listing_id']);\n",
    "# can't determine much from this distribution"
   ]
  },
  {
   "cell_type": "code",
   "execution_count": null,
   "metadata": {},
   "outputs": [],
   "source": [
    "plt.hist(calendar['date']);\n",
    "# not helpful at all"
   ]
  },
  {
   "cell_type": "markdown",
   "metadata": {},
   "source": [
    "Filter down the listings dataframe. "
   ]
  },
  {
   "cell_type": "code",
   "execution_count": null,
   "metadata": {},
   "outputs": [],
   "source": [
    "# Drop columns not used in analysis:\n",
    "    # text-heavy columns (not sure how to clean these up for this analysis)\n",
    "    # URL columns\n",
    "    # location columns: latitude, longitude, street, is_location_exact\n",
    "    # columns with only one value: country (United States), country_code (US), state (MA), last_scraped (2016-09-07), \n",
    "        # calendar_last_scraped (2016-09-06), scrape_id (20160906204935), experiences_offered (None)\n",
    "    # columns with similar info: city, zipcode, smart_location, neighbourhood; keep neighbourhood_cleansed\n",
    "    # columns with only null values: jurisdiction_names, has_availability, neighbourhood_group_cleansed, license\n",
    "print(listings[['country', 'country_code', 'state', 'market', 'last_scraped', 'calendar_last_scraped', \n",
    "                  'experiences_offered']].value_counts())\n",
    "print(listings[['jurisdiction_names', 'has_availability', 'neighbourhood_group_cleansed', \n",
    "                   'license']].isnull().mean())\n",
    "\n",
    "listings_filtered = listings.drop(['description', 'summary', 'space', 'neighborhood_overview', 'notes', \n",
    "                                   'transit', 'access', 'interaction', 'house_rules', 'host_about', \n",
    "                                   'name', 'host_name', 'host_verifications', \n",
    "                                   'host_thumbnail_url', 'listing_url', 'thumbnail_url', 'host_url', \n",
    "                                   'host_picture_url', 'medium_url', 'picture_url', 'xl_picture_url',\n",
    "                                   'latitude', 'longitude', 'country', 'country_code', 'street', 'state', \n",
    "                                   'market', 'neighbourhood', 'smart_location', 'is_location_exact', 'city', \n",
    "                                   'zipcode', 'jurisdiction_names', 'last_scraped', 'calendar_last_scraped', \n",
    "                                   'scrape_id', 'experiences_offered', 'host_id', 'has_availability', \n",
    "                                   'neighbourhood_group_cleansed', 'license', 'host_location',\n",
    "                                   'host_neighbourhood'], axis = 1)\n",
    "listings_filtered.head() # confirm data looks as expected"
   ]
  },
  {
   "cell_type": "code",
   "execution_count": null,
   "metadata": {},
   "outputs": [],
   "source": [
    "# Let's recheck:\n",
    "# How many nulls? What proportion of nulls? What are the column types?\n",
    "for column in listings_filtered.columns:\n",
    "    num_null = listings_filtered[column].isnull().sum()\n",
    "    prop_null = listings_filtered[column].isnull().mean()\n",
    "    col_type = listings_filtered[column].dtype\n",
    "    print(column + \":\" + str(num_null) + \",\" + str(prop_null) + \",\" + str(col_type))"
   ]
  },
  {
   "cell_type": "markdown",
   "metadata": {},
   "source": [
    "Clean up data types in the listings dataframe."
   ]
  },
  {
   "cell_type": "code",
   "execution_count": null,
   "metadata": {},
   "outputs": [],
   "source": [
    "# Why are price fields considered object type? Let's fix this.\n",
    "listings_filtered[['price', 'extra_people', 'weekly_price', 'monthly_price', 'security_deposit', 'cleaning_fee']].head()"
   ]
  },
  {
   "cell_type": "code",
   "execution_count": null,
   "metadata": {},
   "outputs": [],
   "source": [
    "# price field has object dtype due to $ character\n",
    "# Remove $ from beginning of each string\n",
    "listings_filtered['weekly_price'] = listings_filtered['weekly_price'].str.replace(\"$\", \"\")\n",
    "listings_filtered['monthly_price'] = listings_filtered['monthly_price'].str.replace(\"$\", \"\")\n",
    "listings_filtered['security_deposit'] = listings_filtered['security_deposit'].str.replace(\"$\", \"\")\n",
    "listings_filtered['cleaning_fee'] = listings_filtered['cleaning_fee'].str.replace(\"$\", \"\")\n",
    "listings_filtered['extra_people'] = listings_filtered['extra_people'].str.replace(\"$\", \"\")\n",
    "listings_filtered['price'] = listings_filtered['price'].str.replace(\"$\", \"\")\n",
    "\n",
    "listings_filtered[['weekly_price', 'monthly_price', 'security_deposit', \n",
    "                   'cleaning_fee', 'extra_people', 'price']].head() # confirm changes worked correctly"
   ]
  },
  {
   "cell_type": "code",
   "execution_count": null,
   "metadata": {},
   "outputs": [],
   "source": [
    "# Why are host_response_rate and host_acceptance_rate object type?\n",
    "print(listings_filtered[['host_response_rate', 'host_acceptance_rate']].head())\n",
    "\n",
    "# object dtype due to % character --> remove % from end of each string\n",
    "listings_filtered['host_response_rate'] = listings_filtered['host_response_rate'].str.replace(\"%\", \"\")\n",
    "listings_filtered['host_acceptance_rate'] = listings_filtered['host_acceptance_rate'].str.replace(\"%\", \"\")\n",
    "\n",
    "print(listings_filtered[['host_response_rate', 'host_acceptance_rate']].head()) # confirm changes were successful"
   ]
  },
  {
   "cell_type": "code",
   "execution_count": null,
   "metadata": {},
   "outputs": [],
   "source": [
    "# Convert price and fee fields to numeric type\n",
    "listings_filtered['weekly_price'] = pd.to_numeric(listings_filtered['weekly_price'], errors= \"coerce\")\n",
    "listings_filtered['monthly_price'] = pd.to_numeric(listings_filtered['monthly_price'], errors= \"coerce\")\n",
    "listings_filtered['security_deposit'] = pd.to_numeric(listings_filtered['security_deposit'], errors= \"coerce\")\n",
    "listings_filtered['cleaning_fee'] = pd.to_numeric(listings_filtered['cleaning_fee'], errors= \"coerce\")\n",
    "listings_filtered['extra_people'] = pd.to_numeric(listings_filtered['extra_people'], errors= \"coerce\")\n",
    "listings_filtered['price'] = pd.to_numeric(listings_filtered['price'], errors= \"coerce\")\n",
    "\n",
    "\n",
    "# Convert host_response_rate and host_acceptance_rate to numeric type\n",
    "listings_filtered['host_response_rate'] = pd.to_numeric(listings_filtered['host_response_rate'], errors= \"coerce\")\n",
    "listings_filtered['host_acceptance_rate'] = pd.to_numeric(listings_filtered['host_acceptance_rate'], errors= \"coerce\")\n",
    "\n",
    "\n",
    "listings_filtered.dtypes # confirm changes were successful"
   ]
  },
  {
   "cell_type": "code",
   "execution_count": null,
   "metadata": {},
   "outputs": [],
   "source": [
    "# Post-filtering and cleaning: How many nulls? What proportion of nulls? What are the column types?\n",
    "for column in listings_filtered.columns:\n",
    "    num_null = listings_filtered[column].isnull().sum()\n",
    "    prop_null = listings_filtered[column].isnull().mean()\n",
    "    col_type = listings_filtered[column].dtype\n",
    "    if num_null > 0:\n",
    "        print(column + \":\" + str(num_null) + \",\" + str(prop_null) + \",\" + str(col_type))\n",
    "    else:\n",
    "        continue"
   ]
  },
  {
   "cell_type": "markdown",
   "metadata": {},
   "source": [
    "Section 4: Data Modeling (Optional)"
   ]
  },
  {
   "cell_type": "markdown",
   "metadata": {},
   "source": [
    "Section 5: Evaluate the Results"
   ]
  },
  {
   "cell_type": "markdown",
   "metadata": {},
   "source": [
    "Question 1: How does seasonal variation impact Boston AirBnB booking prices?"
   ]
  },
  {
   "cell_type": "code",
   "execution_count": null,
   "metadata": {},
   "outputs": [],
   "source": [
    "# use calendar dataset\n",
    "# extract month and year from 'date' column and store as new columns\n",
    "calendar['month'] = calendar['date'].dt.month\n",
    "calendar['year'] = calendar['date'].dt.year\n",
    "calendar.head()"
   ]
  },
  {
   "cell_type": "code",
   "execution_count": null,
   "metadata": {},
   "outputs": [],
   "source": [
    "calendar.isnull().mean()\n",
    "# 51% of the price values are null"
   ]
  },
  {
   "cell_type": "code",
   "execution_count": null,
   "metadata": {},
   "outputs": [],
   "source": [
    "# filter out available AirBnBs so that we're only looking at booked records\n",
    "calendar_booked = calendar[calendar['available'] == 'f']\n",
    "calendar_booked.head()"
   ]
  },
  {
   "cell_type": "code",
   "execution_count": null,
   "metadata": {},
   "outputs": [],
   "source": [
    "calendar_booked.isnull().mean()\n",
    "# 100% of price values are null for records where available = f\n",
    "# this makes sense because the property is unavailable, so there is no price to rent"
   ]
  },
  {
   "cell_type": "code",
   "execution_count": null,
   "metadata": {},
   "outputs": [],
   "source": [
    "calendar_available = calendar[calendar['available'] == 't']\n",
    "calendar_available.head()"
   ]
  },
  {
   "cell_type": "code",
   "execution_count": null,
   "metadata": {},
   "outputs": [],
   "source": [
    "calendar_available.isnull().mean()\n",
    "# only 0.3% of price values are null for dates when the property is available\n",
    "calendar_available.isnull().sum()\n"
   ]
  },
  {
   "cell_type": "code",
   "execution_count": null,
   "metadata": {},
   "outputs": [],
   "source": [
    "# plot the average price by month\n",
    "mean_monthly_price = calendar.groupby('month')['price'].mean().reset_index()\n",
    "plt.plot(mean_monthly_price['month'], mean_monthly_price['price'], marker = 'o')\n",
    "plt.title('Average Price by Month for a Boston AirBnB')\n",
    "plt.xlabel('Month')\n",
    "plt.ylabel('Average Price')\n",
    "plt.xticks(np.arange(1, 13, 1))\n",
    "plt.tight_layout()\n",
    "plt.show()\n",
    "# highest average prices are in september and october, respectively"
   ]
  },
  {
   "cell_type": "markdown",
   "metadata": {},
   "source": [
    "Question 2: What are the most common amenities for Boston AirBnB properties?"
   ]
  },
  {
   "cell_type": "code",
   "execution_count": null,
   "metadata": {},
   "outputs": [],
   "source": [
    "freq = []\n",
    "for s in listings_filtered['amenities']:\n",
    "    new_list = s[1:-1].replace('\"', '').split(',')\n",
    "    freq = freq + new_list\n",
    "\n",
    "df = pd.DataFrame({'data': freq})\n",
    "freq_table = df['data'].value_counts()\n",
    "amenities = pd.DataFrame(freq_table)\n",
    "amenities"
   ]
  },
  {
   "cell_type": "code",
   "execution_count": 475,
   "metadata": {},
   "outputs": [],
   "source": [
    "amenities_clean = amenities.drop(['', 'translation missing: en.hosting_amenity_50', 'translation missing: en.hosting_amenity_49'], axis=0)"
   ]
  },
  {
   "cell_type": "code",
   "execution_count": null,
   "metadata": {},
   "outputs": [],
   "source": [
    "plt.figure(figsize=(8, 6))\n",
    "ax = sns.barplot(x='data', y='count', data=amenities_clean)\n",
    "plt.xlabel('Amenities')\n",
    "plt.ylabel('Number of Properties')\n",
    "plt.title('Boston AirBnB Amenities')\n",
    "plt.xticks(rotation = 90)\n",
    "\n",
    "ax2=ax.twinx()\n",
    "ax2.set_ylabel('Frequency of Properties')\n",
    "\n",
    "plt.show()"
   ]
  },
  {
   "cell_type": "markdown",
   "metadata": {},
   "source": [
    "Question 3: Which neighborhood has the most AirBnB properties and how does that correlate to pricing?"
   ]
  },
  {
   "cell_type": "code",
   "execution_count": null,
   "metadata": {},
   "outputs": [],
   "source": [
    "neighborhood_counts = listings_filtered.groupby(by='neighbourhood_cleansed')['id'].nunique().sort_values()\n",
    "neighborhood_counts"
   ]
  },
  {
   "cell_type": "code",
   "execution_count": null,
   "metadata": {},
   "outputs": [],
   "source": [
    "mean_neighborhood = listings_filtered.groupby(by='neighbourhood_cleansed').mean('price').sort_values(by='price', ascending=False)\n",
    "mean_neighborhood"
   ]
  },
  {
   "cell_type": "code",
   "execution_count": null,
   "metadata": {},
   "outputs": [],
   "source": [
    "plt.figure(figsize=(8, 6))\n",
    "ax = sns.barplot(x='neighbourhood_cleansed', y='price', data=mean_neighborhood)\n",
    "plt.xlabel('Neighbourhood')\n",
    "plt.ylabel('Price')\n",
    "plt.title('Boston AirBnB Average Prices by Neighbourhood')\n",
    "plt.xticks(rotation = 90)\n",
    "\n",
    "plt.show()"
   ]
  },
  {
   "cell_type": "code",
   "execution_count": null,
   "metadata": {},
   "outputs": [],
   "source": [
    "plt.figure(figsize=(8, 6))\n",
    "plt.scatter(neighborhood_counts, mean_neighborhood['price'])\n",
    "plt.ylim(bottom=0, top=350)\n",
    "plt.xlabel('Number of Properties per Neighborhood')\n",
    "plt.ylabel('Average Price')\n",
    "plt.title('Boston AirBnB Average Prices by Number of Properties in Neighborhood')"
   ]
  }
 ],
 "metadata": {
  "kernelspec": {
   "display_name": ".venv",
   "language": "python",
   "name": "python3"
  },
  "language_info": {
   "codemirror_mode": {
    "name": "ipython",
    "version": 3
   },
   "file_extension": ".py",
   "mimetype": "text/x-python",
   "name": "python",
   "nbconvert_exporter": "python",
   "pygments_lexer": "ipython3",
   "version": "3.13.1"
  }
 },
 "nbformat": 4,
 "nbformat_minor": 2
}
