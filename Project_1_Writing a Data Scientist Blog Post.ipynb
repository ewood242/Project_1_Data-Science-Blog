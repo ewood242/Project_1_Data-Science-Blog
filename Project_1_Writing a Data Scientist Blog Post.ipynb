{
 "cells": [
  {
   "cell_type": "markdown",
   "metadata": {},
   "source": [
    "Project 1: Writing a Data Scientist Blog Post"
   ]
  },
  {
   "cell_type": "markdown",
   "metadata": {},
   "source": [
    "Boston Airbnb Data"
   ]
  },
  {
   "cell_type": "markdown",
   "metadata": {},
   "source": [
    "Import required packages:"
   ]
  },
  {
   "cell_type": "code",
   "execution_count": 5438,
   "metadata": {},
   "outputs": [],
   "source": [
    "import numpy as np\n",
    "import pandas as pd\n",
    "import matplotlib.pyplot as plt\n",
    "from sklearn.linear_model import LinearRegression\n",
    "from sklearn.model_selection import train_test_split\n",
    "from sklearn.metrics import r2_score, mean_squared_error\n",
    "import seaborn as sns\n",
    "import zipfile\n",
    "%matplotlib inline"
   ]
  },
  {
   "cell_type": "markdown",
   "metadata": {},
   "source": [
    "Get familiar with the contents of the calendar file."
   ]
  },
  {
   "cell_type": "code",
   "execution_count": 5439,
   "metadata": {},
   "outputs": [
    {
     "data": {
      "text/html": [
       "<div>\n",
       "<style scoped>\n",
       "    .dataframe tbody tr th:only-of-type {\n",
       "        vertical-align: middle;\n",
       "    }\n",
       "\n",
       "    .dataframe tbody tr th {\n",
       "        vertical-align: top;\n",
       "    }\n",
       "\n",
       "    .dataframe thead th {\n",
       "        text-align: right;\n",
       "    }\n",
       "</style>\n",
       "<table border=\"1\" class=\"dataframe\">\n",
       "  <thead>\n",
       "    <tr style=\"text-align: right;\">\n",
       "      <th></th>\n",
       "      <th>listing_id</th>\n",
       "      <th>date</th>\n",
       "      <th>available</th>\n",
       "      <th>price</th>\n",
       "    </tr>\n",
       "  </thead>\n",
       "  <tbody>\n",
       "    <tr>\n",
       "      <th>0</th>\n",
       "      <td>12147973</td>\n",
       "      <td>2017-09-05</td>\n",
       "      <td>f</td>\n",
       "      <td>NaN</td>\n",
       "    </tr>\n",
       "    <tr>\n",
       "      <th>1</th>\n",
       "      <td>12147973</td>\n",
       "      <td>2017-09-04</td>\n",
       "      <td>f</td>\n",
       "      <td>NaN</td>\n",
       "    </tr>\n",
       "    <tr>\n",
       "      <th>2</th>\n",
       "      <td>12147973</td>\n",
       "      <td>2017-09-03</td>\n",
       "      <td>f</td>\n",
       "      <td>NaN</td>\n",
       "    </tr>\n",
       "    <tr>\n",
       "      <th>3</th>\n",
       "      <td>12147973</td>\n",
       "      <td>2017-09-02</td>\n",
       "      <td>f</td>\n",
       "      <td>NaN</td>\n",
       "    </tr>\n",
       "    <tr>\n",
       "      <th>4</th>\n",
       "      <td>12147973</td>\n",
       "      <td>2017-09-01</td>\n",
       "      <td>f</td>\n",
       "      <td>NaN</td>\n",
       "    </tr>\n",
       "  </tbody>\n",
       "</table>\n",
       "</div>"
      ],
      "text/plain": [
       "   listing_id        date available price\n",
       "0    12147973  2017-09-05         f   NaN\n",
       "1    12147973  2017-09-04         f   NaN\n",
       "2    12147973  2017-09-03         f   NaN\n",
       "3    12147973  2017-09-02         f   NaN\n",
       "4    12147973  2017-09-01         f   NaN"
      ]
     },
     "execution_count": 5439,
     "metadata": {},
     "output_type": "execute_result"
    }
   ],
   "source": [
    "# Open calendar data file\n",
    "calendar_path = r\"C:\\Users\\emma1\\Project_1_Data-Science-Blog\\Boston Airbnb Open Data\\calendar.csv\"\n",
    "calendar = pd.read_csv(calendar_path)\n",
    "# View top five rows\n",
    "calendar.head()"
   ]
  },
  {
   "cell_type": "code",
   "execution_count": 5440,
   "metadata": {},
   "outputs": [
    {
     "data": {
      "text/plain": [
       "(1308890, 4)"
      ]
     },
     "execution_count": 5440,
     "metadata": {},
     "output_type": "execute_result"
    }
   ],
   "source": [
    "# How big is the dataset?\n",
    "calendar.shape # 4 columns : 1,308,890 rows of data"
   ]
  },
  {
   "cell_type": "code",
   "execution_count": 5441,
   "metadata": {},
   "outputs": [
    {
     "data": {
      "text/plain": [
       "listing_id     int64\n",
       "date          object\n",
       "available     object\n",
       "price         object\n",
       "dtype: object"
      ]
     },
     "execution_count": 5441,
     "metadata": {},
     "output_type": "execute_result"
    }
   ],
   "source": [
    "# What data types are included in this dataset?\n",
    "calendar.dtypes # Why is price listed as an object?"
   ]
  },
  {
   "cell_type": "code",
   "execution_count": 5442,
   "metadata": {},
   "outputs": [
    {
     "data": {
      "text/plain": [
       "listing_id         0\n",
       "date               0\n",
       "available          0\n",
       "price         665853\n",
       "dtype: int64"
      ]
     },
     "execution_count": 5442,
     "metadata": {},
     "output_type": "execute_result"
    }
   ],
   "source": [
    "# Count null values\n",
    "calendar.isnull().sum() # 665,853 null values in price column"
   ]
  },
  {
   "cell_type": "code",
   "execution_count": 5443,
   "metadata": {},
   "outputs": [
    {
     "data": {
      "text/plain": [
       "listing_id    0.000000\n",
       "date          0.000000\n",
       "available     0.000000\n",
       "price         0.508716\n",
       "dtype: float64"
      ]
     },
     "execution_count": 5443,
     "metadata": {},
     "output_type": "execute_result"
    }
   ],
   "source": [
    "# Determine proportion of null values\n",
    "calendar.isnull().mean() # 50.8716% null values in price column"
   ]
  },
  {
   "cell_type": "code",
   "execution_count": 5444,
   "metadata": {},
   "outputs": [
    {
     "data": {
      "text/html": [
       "<div>\n",
       "<style scoped>\n",
       "    .dataframe tbody tr th:only-of-type {\n",
       "        vertical-align: middle;\n",
       "    }\n",
       "\n",
       "    .dataframe tbody tr th {\n",
       "        vertical-align: top;\n",
       "    }\n",
       "\n",
       "    .dataframe thead th {\n",
       "        text-align: right;\n",
       "    }\n",
       "</style>\n",
       "<table border=\"1\" class=\"dataframe\">\n",
       "  <thead>\n",
       "    <tr style=\"text-align: right;\">\n",
       "      <th></th>\n",
       "      <th>listing_id</th>\n",
       "      <th>date</th>\n",
       "      <th>available</th>\n",
       "      <th>price</th>\n",
       "    </tr>\n",
       "  </thead>\n",
       "  <tbody>\n",
       "    <tr>\n",
       "      <th>count</th>\n",
       "      <td>1.308890e+06</td>\n",
       "      <td>1308890</td>\n",
       "      <td>1308890</td>\n",
       "      <td>643037</td>\n",
       "    </tr>\n",
       "    <tr>\n",
       "      <th>unique</th>\n",
       "      <td>NaN</td>\n",
       "      <td>365</td>\n",
       "      <td>2</td>\n",
       "      <td>1246</td>\n",
       "    </tr>\n",
       "    <tr>\n",
       "      <th>top</th>\n",
       "      <td>NaN</td>\n",
       "      <td>2016-09-06</td>\n",
       "      <td>f</td>\n",
       "      <td>$150.00</td>\n",
       "    </tr>\n",
       "    <tr>\n",
       "      <th>freq</th>\n",
       "      <td>NaN</td>\n",
       "      <td>3586</td>\n",
       "      <td>665853</td>\n",
       "      <td>20752</td>\n",
       "    </tr>\n",
       "    <tr>\n",
       "      <th>mean</th>\n",
       "      <td>8.442118e+06</td>\n",
       "      <td>NaN</td>\n",
       "      <td>NaN</td>\n",
       "      <td>NaN</td>\n",
       "    </tr>\n",
       "    <tr>\n",
       "      <th>std</th>\n",
       "      <td>4.500149e+06</td>\n",
       "      <td>NaN</td>\n",
       "      <td>NaN</td>\n",
       "      <td>NaN</td>\n",
       "    </tr>\n",
       "    <tr>\n",
       "      <th>min</th>\n",
       "      <td>3.353000e+03</td>\n",
       "      <td>NaN</td>\n",
       "      <td>NaN</td>\n",
       "      <td>NaN</td>\n",
       "    </tr>\n",
       "    <tr>\n",
       "      <th>25%</th>\n",
       "      <td>4.679319e+06</td>\n",
       "      <td>NaN</td>\n",
       "      <td>NaN</td>\n",
       "      <td>NaN</td>\n",
       "    </tr>\n",
       "    <tr>\n",
       "      <th>50%</th>\n",
       "      <td>8.578710e+06</td>\n",
       "      <td>NaN</td>\n",
       "      <td>NaN</td>\n",
       "      <td>NaN</td>\n",
       "    </tr>\n",
       "    <tr>\n",
       "      <th>75%</th>\n",
       "      <td>1.279603e+07</td>\n",
       "      <td>NaN</td>\n",
       "      <td>NaN</td>\n",
       "      <td>NaN</td>\n",
       "    </tr>\n",
       "    <tr>\n",
       "      <th>max</th>\n",
       "      <td>1.493346e+07</td>\n",
       "      <td>NaN</td>\n",
       "      <td>NaN</td>\n",
       "      <td>NaN</td>\n",
       "    </tr>\n",
       "  </tbody>\n",
       "</table>\n",
       "</div>"
      ],
      "text/plain": [
       "          listing_id        date available    price\n",
       "count   1.308890e+06     1308890   1308890   643037\n",
       "unique           NaN         365         2     1246\n",
       "top              NaN  2016-09-06         f  $150.00\n",
       "freq             NaN        3586    665853    20752\n",
       "mean    8.442118e+06         NaN       NaN      NaN\n",
       "std     4.500149e+06         NaN       NaN      NaN\n",
       "min     3.353000e+03         NaN       NaN      NaN\n",
       "25%     4.679319e+06         NaN       NaN      NaN\n",
       "50%     8.578710e+06         NaN       NaN      NaN\n",
       "75%     1.279603e+07         NaN       NaN      NaN\n",
       "max     1.493346e+07         NaN       NaN      NaN"
      ]
     },
     "execution_count": 5444,
     "metadata": {},
     "output_type": "execute_result"
    }
   ],
   "source": [
    "# Look at descriptive statistics for each field\n",
    "calendar.describe(include='all') # statistics not very useful - only listing_id is an int field, others are object fields"
   ]
  },
  {
   "cell_type": "code",
   "execution_count": 5445,
   "metadata": {},
   "outputs": [],
   "source": [
    "#plt.hist(calendar['price']);"
   ]
  },
  {
   "cell_type": "code",
   "execution_count": 5446,
   "metadata": {},
   "outputs": [],
   "source": [
    "#plt.scatter(calendar['date'], calendar['price']);"
   ]
  },
  {
   "cell_type": "markdown",
   "metadata": {},
   "source": [
    "Clean up calendar file."
   ]
  },
  {
   "cell_type": "code",
   "execution_count": 5447,
   "metadata": {},
   "outputs": [],
   "source": [
    "# Are there seasonal variations in pricing and availability?"
   ]
  },
  {
   "cell_type": "code",
   "execution_count": 5448,
   "metadata": {},
   "outputs": [
    {
     "data": {
      "text/plain": [
       "listing_id             int64\n",
       "date          datetime64[ns]\n",
       "available             object\n",
       "price                 object\n",
       "dtype: object"
      ]
     },
     "execution_count": 5448,
     "metadata": {},
     "output_type": "execute_result"
    }
   ],
   "source": [
    "# Change date field from object to datetime\n",
    "calendar['date'] = pd.to_datetime(calendar['date'])\n",
    "calendar.dtypes # confirm change was successful"
   ]
  },
  {
   "cell_type": "code",
   "execution_count": 5449,
   "metadata": {},
   "outputs": [
    {
     "data": {
      "text/plain": [
       "price\n",
       "150.00      20752\n",
       "65.00       17518\n",
       "75.00       16249\n",
       "100.00      15499\n",
       "200.00      14326\n",
       "            ...  \n",
       "1,056.00        1\n",
       "1,381.00        1\n",
       "1,707.00        1\n",
       "2,080.00        1\n",
       "1,810.00        1\n",
       "Name: count, Length: 1246, dtype: int64"
      ]
     },
     "execution_count": 5449,
     "metadata": {},
     "output_type": "execute_result"
    }
   ],
   "source": [
    "# price field has object dtype due to $ character\n",
    "# Remove $ from beginning of each string\n",
    "calendar['price'] = calendar['price'].str.replace(\"$\", \"\")\n",
    "calendar['price'].value_counts()"
   ]
  },
  {
   "cell_type": "code",
   "execution_count": 5450,
   "metadata": {},
   "outputs": [
    {
     "data": {
      "text/plain": [
       "listing_id             int64\n",
       "date          datetime64[ns]\n",
       "available             object\n",
       "price                float64\n",
       "dtype: object"
      ]
     },
     "execution_count": 5450,
     "metadata": {},
     "output_type": "execute_result"
    }
   ],
   "source": [
    "# Convert price field to numeric\n",
    "calendar['price'] = pd.to_numeric(calendar['price'], errors= \"coerce\")\n",
    "calendar.dtypes # confirm change was successful"
   ]
  },
  {
   "cell_type": "markdown",
   "metadata": {},
   "source": [
    "Visualize the cleaned calendar data."
   ]
  },
  {
   "cell_type": "code",
   "execution_count": 5451,
   "metadata": {},
   "outputs": [
    {
     "data": {
      "image/png": "[encoded data removed]",
      "text/plain": [
       "<Figure size 640x480 with 1 Axes>"
      ]
     },
     "metadata": {},
     "output_type": "display_data"
    }
   ],
   "source": [
    "plt.hist(calendar['price']);\n",
    "# right skewed distribution"
   ]
  },
  {
   "cell_type": "code",
   "execution_count": 5452,
   "metadata": {},
   "outputs": [
    {
     "data": {
      "image/png": "[encoded data removed]",
      "text/plain": [
       "<Figure size 640x480 with 1 Axes>"
      ]
     },
     "metadata": {},
     "output_type": "display_data"
    }
   ],
   "source": [
    "plt.hist(calendar['available']);\n",
    "# Fairly equal distribution of T and F values"
   ]
  },
  {
   "cell_type": "code",
   "execution_count": 5453,
   "metadata": {},
   "outputs": [
    {
     "data": {
      "image/png": "[encoded data removed]",
      "text/plain": [
       "<Figure size 640x480 with 1 Axes>"
      ]
     },
     "metadata": {},
     "output_type": "display_data"
    }
   ],
   "source": [
    "plt.hist(calendar['listing_id']);\n",
    "# can't determine much from this distribution"
   ]
  },
  {
   "cell_type": "code",
   "execution_count": 5454,
   "metadata": {},
   "outputs": [
    {
     "data": {
      "image/png": "[encoded data removed]",
      "text/plain": [
       "<Figure size 640x480 with 1 Axes>"
      ]
     },
     "metadata": {},
     "output_type": "display_data"
    }
   ],
   "source": [
    "plt.hist(calendar['date']);\n",
    "# not helpful at all"
   ]
  },
  {
   "cell_type": "markdown",
   "metadata": {},
   "source": [
    "Impute numeric values for price field."
   ]
  },
  {
   "cell_type": "code",
   "execution_count": 5455,
   "metadata": {},
   "outputs": [
    {
     "data": {
      "text/plain": [
       "listing_id         0\n",
       "date               0\n",
       "available          0\n",
       "price         668421\n",
       "dtype: int64"
      ]
     },
     "execution_count": 5455,
     "metadata": {},
     "output_type": "execute_result"
    }
   ],
   "source": [
    "calendar.isnull().sum()"
   ]
  },
  {
   "cell_type": "code",
   "execution_count": 5456,
   "metadata": {},
   "outputs": [
    {
     "data": {
      "text/plain": [
       "listing_id    0.000000\n",
       "date          0.000000\n",
       "available     0.000000\n",
       "price         0.510678\n",
       "dtype: float64"
      ]
     },
     "execution_count": 5456,
     "metadata": {},
     "output_type": "execute_result"
    }
   ],
   "source": [
    "calendar.isnull().mean()"
   ]
  },
  {
   "cell_type": "code",
   "execution_count": 5457,
   "metadata": {},
   "outputs": [
    {
     "name": "stderr",
     "output_type": "stream",
     "text": [
      "C:\\Users\\emma1\\AppData\\Local\\Temp\\ipykernel_10032\\4026195615.py:1: FutureWarning: A value is trying to be set on a copy of a DataFrame or Series through chained assignment using an inplace method.\n",
      "The behavior will change in pandas 3.0. This inplace method will never work because the intermediate object on which we are setting values always behaves as a copy.\n",
      "\n",
      "For example, when doing 'df[col].method(value, inplace=True)', try using 'df.method({col: value}, inplace=True)' or df[col] = df[col].method(value) instead, to perform the operation inplace on the original object.\n",
      "\n",
      "\n",
      "  calendar['price'].fillna((calendar['price'].mean()), inplace = True)\n"
     ]
    },
    {
     "data": {
      "text/plain": [
       "listing_id    0.0\n",
       "date          0.0\n",
       "available     0.0\n",
       "price         0.0\n",
       "dtype: float64"
      ]
     },
     "execution_count": 5457,
     "metadata": {},
     "output_type": "execute_result"
    }
   ],
   "source": [
    "calendar['price'].fillna((calendar['price'].mean()), inplace = True)\n",
    "calendar.isnull().mean() # confirm all null values filled in"
   ]
  },
  {
   "cell_type": "markdown",
   "metadata": {},
   "source": [
    "Get familiar with listings file. "
   ]
  },
  {
   "cell_type": "code",
   "execution_count": 5458,
   "metadata": {},
   "outputs": [
    {
     "name": "stdout",
     "output_type": "stream",
     "text": [
      "         id                            listing_url       scrape_id  \\\n",
      "0  12147973  https://www.airbnb.com/rooms/12147973  20160906204935   \n",
      "1   3075044   https://www.airbnb.com/rooms/3075044  20160906204935   \n",
      "2      6976      https://www.airbnb.com/rooms/6976  20160906204935   \n",
      "3   1436513   https://www.airbnb.com/rooms/1436513  20160906204935   \n",
      "4   7651065   https://www.airbnb.com/rooms/7651065  20160906204935   \n",
      "\n",
      "  last_scraped                                           name  \\\n",
      "0   2016-09-07                     Sunny Bungalow in the City   \n",
      "1   2016-09-07              Charming room in pet friendly apt   \n",
      "2   2016-09-07               Mexican Folk Art Haven in Boston   \n",
      "3   2016-09-07  Spacious Sunny Bedroom Suite in Historic Home   \n",
      "4   2016-09-07                            Come Home to Boston   \n",
      "\n",
      "                                             summary  \\\n",
      "0  Cozy, sunny, family home.  Master bedroom high...   \n",
      "1  Charming and quiet room in a second floor 1910...   \n",
      "2  Come stay with a friendly, middle-aged guy in ...   \n",
      "3  Come experience the comforts of home away from...   \n",
      "4  My comfy, clean and relaxing home is one block...   \n",
      "\n",
      "                                               space  \\\n",
      "0  The house has an open and cozy feel at the sam...   \n",
      "1  Small but cozy and quite room with a full size...   \n",
      "2  Come stay with a friendly, middle-aged guy in ...   \n",
      "3  Most places you find in Boston are small howev...   \n",
      "4  Clean, attractive, private room, one block fro...   \n",
      "\n",
      "                                         description experiences_offered  \\\n",
      "0  Cozy, sunny, family home.  Master bedroom high...                none   \n",
      "1  Charming and quiet room in a second floor 1910...                none   \n",
      "2  Come stay with a friendly, middle-aged guy in ...                none   \n",
      "3  Come experience the comforts of home away from...                none   \n",
      "4  My comfy, clean and relaxing home is one block...                none   \n",
      "\n",
      "                               neighborhood_overview  ... review_scores_value  \\\n",
      "0  Roslindale is quiet, convenient and friendly. ...  ...                 NaN   \n",
      "1  The room is in Roslindale, a diverse and prima...  ...                 9.0   \n",
      "2  The LOCATION: Roslindale is a safe and diverse...  ...                10.0   \n",
      "3  Roslindale is a lovely little neighborhood loc...  ...                10.0   \n",
      "4  I love the proximity to downtown, the neighbor...  ...                10.0   \n",
      "\n",
      "  requires_license license jurisdiction_names instant_bookable  \\\n",
      "0                f     NaN                NaN                f   \n",
      "1                f     NaN                NaN                t   \n",
      "2                f     NaN                NaN                f   \n",
      "3                f     NaN                NaN                f   \n",
      "4                f     NaN                NaN                f   \n",
      "\n",
      "  cancellation_policy require_guest_profile_picture  \\\n",
      "0            moderate                             f   \n",
      "1            moderate                             f   \n",
      "2            moderate                             t   \n",
      "3            moderate                             f   \n",
      "4            flexible                             f   \n",
      "\n",
      "  require_guest_phone_verification calculated_host_listings_count  \\\n",
      "0                                f                              1   \n",
      "1                                f                              1   \n",
      "2                                f                              1   \n",
      "3                                f                              1   \n",
      "4                                f                              1   \n",
      "\n",
      "   reviews_per_month  \n",
      "0                NaN  \n",
      "1               1.30  \n",
      "2               0.47  \n",
      "3               1.00  \n",
      "4               2.25  \n",
      "\n",
      "[5 rows x 95 columns]\n"
     ]
    }
   ],
   "source": [
    "# Open listings data file\n",
    "listings_path = r\"C:\\Users\\emma1\\Project_1_Data-Science-Blog\\Boston Airbnb Open Data\\listings.csv\"\n",
    "listings = pd.read_csv(listings_path)\n",
    "# View top five rows\n",
    "print(listings.head()) # lots of data here"
   ]
  },
  {
   "cell_type": "code",
   "execution_count": 5459,
   "metadata": {},
   "outputs": [
    {
     "data": {
      "text/plain": [
       "(3585, 95)"
      ]
     },
     "execution_count": 5459,
     "metadata": {},
     "output_type": "execute_result"
    }
   ],
   "source": [
    "# How big is this dataset?\n",
    "listings.shape # 95 columns : 3,585 rows"
   ]
  },
  {
   "cell_type": "code",
   "execution_count": 5460,
   "metadata": {},
   "outputs": [
    {
     "data": {
      "text/plain": [
       "Index(['id', 'listing_url', 'scrape_id', 'last_scraped', 'name', 'summary',\n",
       "       'space', 'description', 'experiences_offered', 'neighborhood_overview',\n",
       "       'notes', 'transit', 'access', 'interaction', 'house_rules',\n",
       "       'thumbnail_url', 'medium_url', 'picture_url', 'xl_picture_url',\n",
       "       'host_id', 'host_url', 'host_name', 'host_since', 'host_location',\n",
       "       'host_about', 'host_response_time', 'host_response_rate',\n",
       "       'host_acceptance_rate', 'host_is_superhost', 'host_thumbnail_url',\n",
       "       'host_picture_url', 'host_neighbourhood', 'host_listings_count',\n",
       "       'host_total_listings_count', 'host_verifications',\n",
       "       'host_has_profile_pic', 'host_identity_verified', 'street',\n",
       "       'neighbourhood', 'neighbourhood_cleansed',\n",
       "       'neighbourhood_group_cleansed', 'city', 'state', 'zipcode', 'market',\n",
       "       'smart_location', 'country_code', 'country', 'latitude', 'longitude',\n",
       "       'is_location_exact', 'property_type', 'room_type', 'accommodates',\n",
       "       'bathrooms', 'bedrooms', 'beds', 'bed_type', 'amenities', 'square_feet',\n",
       "       'price', 'weekly_price', 'monthly_price', 'security_deposit',\n",
       "       'cleaning_fee', 'guests_included', 'extra_people', 'minimum_nights',\n",
       "       'maximum_nights', 'calendar_updated', 'has_availability',\n",
       "       'availability_30', 'availability_60', 'availability_90',\n",
       "       'availability_365', 'calendar_last_scraped', 'number_of_reviews',\n",
       "       'first_review', 'last_review', 'review_scores_rating',\n",
       "       'review_scores_accuracy', 'review_scores_cleanliness',\n",
       "       'review_scores_checkin', 'review_scores_communication',\n",
       "       'review_scores_location', 'review_scores_value', 'requires_license',\n",
       "       'license', 'jurisdiction_names', 'instant_bookable',\n",
       "       'cancellation_policy', 'require_guest_profile_picture',\n",
       "       'require_guest_phone_verification', 'calculated_host_listings_count',\n",
       "       'reviews_per_month'],\n",
       "      dtype='object')"
      ]
     },
     "execution_count": 5460,
     "metadata": {},
     "output_type": "execute_result"
    }
   ],
   "source": [
    "listings.columns # look at column names"
   ]
  },
  {
   "cell_type": "code",
   "execution_count": 5461,
   "metadata": {},
   "outputs": [
    {
     "data": {
      "text/html": [
       "<div>\n",
       "<style scoped>\n",
       "    .dataframe tbody tr th:only-of-type {\n",
       "        vertical-align: middle;\n",
       "    }\n",
       "\n",
       "    .dataframe tbody tr th {\n",
       "        vertical-align: top;\n",
       "    }\n",
       "\n",
       "    .dataframe thead th {\n",
       "        text-align: right;\n",
       "    }\n",
       "</style>\n",
       "<table border=\"1\" class=\"dataframe\">\n",
       "  <thead>\n",
       "    <tr style=\"text-align: right;\">\n",
       "      <th></th>\n",
       "      <th>id</th>\n",
       "      <th>listing_url</th>\n",
       "      <th>scrape_id</th>\n",
       "      <th>last_scraped</th>\n",
       "      <th>name</th>\n",
       "      <th>summary</th>\n",
       "      <th>space</th>\n",
       "      <th>description</th>\n",
       "      <th>experiences_offered</th>\n",
       "      <th>neighborhood_overview</th>\n",
       "      <th>...</th>\n",
       "      <th>review_scores_value</th>\n",
       "      <th>requires_license</th>\n",
       "      <th>license</th>\n",
       "      <th>jurisdiction_names</th>\n",
       "      <th>instant_bookable</th>\n",
       "      <th>cancellation_policy</th>\n",
       "      <th>require_guest_profile_picture</th>\n",
       "      <th>require_guest_phone_verification</th>\n",
       "      <th>calculated_host_listings_count</th>\n",
       "      <th>reviews_per_month</th>\n",
       "    </tr>\n",
       "  </thead>\n",
       "  <tbody>\n",
       "    <tr>\n",
       "      <th>count</th>\n",
       "      <td>3.585000e+03</td>\n",
       "      <td>3585</td>\n",
       "      <td>3.585000e+03</td>\n",
       "      <td>3585</td>\n",
       "      <td>3585</td>\n",
       "      <td>3442</td>\n",
       "      <td>2528</td>\n",
       "      <td>3585</td>\n",
       "      <td>3585</td>\n",
       "      <td>2170</td>\n",
       "      <td>...</td>\n",
       "      <td>2764.000000</td>\n",
       "      <td>3585</td>\n",
       "      <td>0.0</td>\n",
       "      <td>0.0</td>\n",
       "      <td>3585</td>\n",
       "      <td>3585</td>\n",
       "      <td>3585</td>\n",
       "      <td>3585</td>\n",
       "      <td>3585.000000</td>\n",
       "      <td>2829.000000</td>\n",
       "    </tr>\n",
       "    <tr>\n",
       "      <th>unique</th>\n",
       "      <td>NaN</td>\n",
       "      <td>3585</td>\n",
       "      <td>NaN</td>\n",
       "      <td>1</td>\n",
       "      <td>3504</td>\n",
       "      <td>3113</td>\n",
       "      <td>2268</td>\n",
       "      <td>3423</td>\n",
       "      <td>1</td>\n",
       "      <td>1728</td>\n",
       "      <td>...</td>\n",
       "      <td>NaN</td>\n",
       "      <td>1</td>\n",
       "      <td>NaN</td>\n",
       "      <td>NaN</td>\n",
       "      <td>2</td>\n",
       "      <td>4</td>\n",
       "      <td>2</td>\n",
       "      <td>2</td>\n",
       "      <td>NaN</td>\n",
       "      <td>NaN</td>\n",
       "    </tr>\n",
       "    <tr>\n",
       "      <th>top</th>\n",
       "      <td>NaN</td>\n",
       "      <td>https://www.airbnb.com/rooms/14504422</td>\n",
       "      <td>NaN</td>\n",
       "      <td>2016-09-07</td>\n",
       "      <td>Lux 2BR by Fenway w/WiFi</td>\n",
       "      <td>The unit is stylishly designed for comfort, va...</td>\n",
       "      <td>The studio's kitchenette comes equipped with a...</td>\n",
       "      <td>Private room in a HOSTEL exclusive for Airbnb ...</td>\n",
       "      <td>none</td>\n",
       "      <td>Conveniently bordering the neighborhoods of th...</td>\n",
       "      <td>...</td>\n",
       "      <td>NaN</td>\n",
       "      <td>f</td>\n",
       "      <td>NaN</td>\n",
       "      <td>NaN</td>\n",
       "      <td>f</td>\n",
       "      <td>strict</td>\n",
       "      <td>f</td>\n",
       "      <td>f</td>\n",
       "      <td>NaN</td>\n",
       "      <td>NaN</td>\n",
       "    </tr>\n",
       "    <tr>\n",
       "      <th>freq</th>\n",
       "      <td>NaN</td>\n",
       "      <td>1</td>\n",
       "      <td>NaN</td>\n",
       "      <td>3585</td>\n",
       "      <td>8</td>\n",
       "      <td>21</td>\n",
       "      <td>17</td>\n",
       "      <td>7</td>\n",
       "      <td>3585</td>\n",
       "      <td>21</td>\n",
       "      <td>...</td>\n",
       "      <td>NaN</td>\n",
       "      <td>3585</td>\n",
       "      <td>NaN</td>\n",
       "      <td>NaN</td>\n",
       "      <td>2991</td>\n",
       "      <td>1582</td>\n",
       "      <td>3518</td>\n",
       "      <td>3348</td>\n",
       "      <td>NaN</td>\n",
       "      <td>NaN</td>\n",
       "    </tr>\n",
       "    <tr>\n",
       "      <th>mean</th>\n",
       "      <td>8.440875e+06</td>\n",
       "      <td>NaN</td>\n",
       "      <td>2.016091e+13</td>\n",
       "      <td>NaN</td>\n",
       "      <td>NaN</td>\n",
       "      <td>NaN</td>\n",
       "      <td>NaN</td>\n",
       "      <td>NaN</td>\n",
       "      <td>NaN</td>\n",
       "      <td>NaN</td>\n",
       "      <td>...</td>\n",
       "      <td>9.168234</td>\n",
       "      <td>NaN</td>\n",
       "      <td>NaN</td>\n",
       "      <td>NaN</td>\n",
       "      <td>NaN</td>\n",
       "      <td>NaN</td>\n",
       "      <td>NaN</td>\n",
       "      <td>NaN</td>\n",
       "      <td>12.733891</td>\n",
       "      <td>1.970908</td>\n",
       "    </tr>\n",
       "    <tr>\n",
       "      <th>std</th>\n",
       "      <td>4.500787e+06</td>\n",
       "      <td>NaN</td>\n",
       "      <td>0.000000e+00</td>\n",
       "      <td>NaN</td>\n",
       "      <td>NaN</td>\n",
       "      <td>NaN</td>\n",
       "      <td>NaN</td>\n",
       "      <td>NaN</td>\n",
       "      <td>NaN</td>\n",
       "      <td>NaN</td>\n",
       "      <td>...</td>\n",
       "      <td>1.011116</td>\n",
       "      <td>NaN</td>\n",
       "      <td>NaN</td>\n",
       "      <td>NaN</td>\n",
       "      <td>NaN</td>\n",
       "      <td>NaN</td>\n",
       "      <td>NaN</td>\n",
       "      <td>NaN</td>\n",
       "      <td>29.415076</td>\n",
       "      <td>2.120561</td>\n",
       "    </tr>\n",
       "    <tr>\n",
       "      <th>min</th>\n",
       "      <td>3.353000e+03</td>\n",
       "      <td>NaN</td>\n",
       "      <td>2.016091e+13</td>\n",
       "      <td>NaN</td>\n",
       "      <td>NaN</td>\n",
       "      <td>NaN</td>\n",
       "      <td>NaN</td>\n",
       "      <td>NaN</td>\n",
       "      <td>NaN</td>\n",
       "      <td>NaN</td>\n",
       "      <td>...</td>\n",
       "      <td>2.000000</td>\n",
       "      <td>NaN</td>\n",
       "      <td>NaN</td>\n",
       "      <td>NaN</td>\n",
       "      <td>NaN</td>\n",
       "      <td>NaN</td>\n",
       "      <td>NaN</td>\n",
       "      <td>NaN</td>\n",
       "      <td>1.000000</td>\n",
       "      <td>0.010000</td>\n",
       "    </tr>\n",
       "    <tr>\n",
       "      <th>25%</th>\n",
       "      <td>4.679319e+06</td>\n",
       "      <td>NaN</td>\n",
       "      <td>2.016091e+13</td>\n",
       "      <td>NaN</td>\n",
       "      <td>NaN</td>\n",
       "      <td>NaN</td>\n",
       "      <td>NaN</td>\n",
       "      <td>NaN</td>\n",
       "      <td>NaN</td>\n",
       "      <td>NaN</td>\n",
       "      <td>...</td>\n",
       "      <td>9.000000</td>\n",
       "      <td>NaN</td>\n",
       "      <td>NaN</td>\n",
       "      <td>NaN</td>\n",
       "      <td>NaN</td>\n",
       "      <td>NaN</td>\n",
       "      <td>NaN</td>\n",
       "      <td>NaN</td>\n",
       "      <td>1.000000</td>\n",
       "      <td>0.480000</td>\n",
       "    </tr>\n",
       "    <tr>\n",
       "      <th>50%</th>\n",
       "      <td>8.577620e+06</td>\n",
       "      <td>NaN</td>\n",
       "      <td>2.016091e+13</td>\n",
       "      <td>NaN</td>\n",
       "      <td>NaN</td>\n",
       "      <td>NaN</td>\n",
       "      <td>NaN</td>\n",
       "      <td>NaN</td>\n",
       "      <td>NaN</td>\n",
       "      <td>NaN</td>\n",
       "      <td>...</td>\n",
       "      <td>9.000000</td>\n",
       "      <td>NaN</td>\n",
       "      <td>NaN</td>\n",
       "      <td>NaN</td>\n",
       "      <td>NaN</td>\n",
       "      <td>NaN</td>\n",
       "      <td>NaN</td>\n",
       "      <td>NaN</td>\n",
       "      <td>2.000000</td>\n",
       "      <td>1.170000</td>\n",
       "    </tr>\n",
       "    <tr>\n",
       "      <th>75%</th>\n",
       "      <td>1.278953e+07</td>\n",
       "      <td>NaN</td>\n",
       "      <td>2.016091e+13</td>\n",
       "      <td>NaN</td>\n",
       "      <td>NaN</td>\n",
       "      <td>NaN</td>\n",
       "      <td>NaN</td>\n",
       "      <td>NaN</td>\n",
       "      <td>NaN</td>\n",
       "      <td>NaN</td>\n",
       "      <td>...</td>\n",
       "      <td>10.000000</td>\n",
       "      <td>NaN</td>\n",
       "      <td>NaN</td>\n",
       "      <td>NaN</td>\n",
       "      <td>NaN</td>\n",
       "      <td>NaN</td>\n",
       "      <td>NaN</td>\n",
       "      <td>NaN</td>\n",
       "      <td>6.000000</td>\n",
       "      <td>2.720000</td>\n",
       "    </tr>\n",
       "    <tr>\n",
       "      <th>max</th>\n",
       "      <td>1.493346e+07</td>\n",
       "      <td>NaN</td>\n",
       "      <td>2.016091e+13</td>\n",
       "      <td>NaN</td>\n",
       "      <td>NaN</td>\n",
       "      <td>NaN</td>\n",
       "      <td>NaN</td>\n",
       "      <td>NaN</td>\n",
       "      <td>NaN</td>\n",
       "      <td>NaN</td>\n",
       "      <td>...</td>\n",
       "      <td>10.000000</td>\n",
       "      <td>NaN</td>\n",
       "      <td>NaN</td>\n",
       "      <td>NaN</td>\n",
       "      <td>NaN</td>\n",
       "      <td>NaN</td>\n",
       "      <td>NaN</td>\n",
       "      <td>NaN</td>\n",
       "      <td>136.000000</td>\n",
       "      <td>19.150000</td>\n",
       "    </tr>\n",
       "  </tbody>\n",
       "</table>\n",
       "<p>11 rows × 95 columns</p>\n",
       "</div>"
      ],
      "text/plain": [
       "                  id                            listing_url     scrape_id  \\\n",
       "count   3.585000e+03                                   3585  3.585000e+03   \n",
       "unique           NaN                                   3585           NaN   \n",
       "top              NaN  https://www.airbnb.com/rooms/14504422           NaN   \n",
       "freq             NaN                                      1           NaN   \n",
       "mean    8.440875e+06                                    NaN  2.016091e+13   \n",
       "std     4.500787e+06                                    NaN  0.000000e+00   \n",
       "min     3.353000e+03                                    NaN  2.016091e+13   \n",
       "25%     4.679319e+06                                    NaN  2.016091e+13   \n",
       "50%     8.577620e+06                                    NaN  2.016091e+13   \n",
       "75%     1.278953e+07                                    NaN  2.016091e+13   \n",
       "max     1.493346e+07                                    NaN  2.016091e+13   \n",
       "\n",
       "       last_scraped                      name  \\\n",
       "count          3585                      3585   \n",
       "unique            1                      3504   \n",
       "top      2016-09-07  Lux 2BR by Fenway w/WiFi   \n",
       "freq           3585                         8   \n",
       "mean            NaN                       NaN   \n",
       "std             NaN                       NaN   \n",
       "min             NaN                       NaN   \n",
       "25%             NaN                       NaN   \n",
       "50%             NaN                       NaN   \n",
       "75%             NaN                       NaN   \n",
       "max             NaN                       NaN   \n",
       "\n",
       "                                                  summary  \\\n",
       "count                                                3442   \n",
       "unique                                               3113   \n",
       "top     The unit is stylishly designed for comfort, va...   \n",
       "freq                                                   21   \n",
       "mean                                                  NaN   \n",
       "std                                                   NaN   \n",
       "min                                                   NaN   \n",
       "25%                                                   NaN   \n",
       "50%                                                   NaN   \n",
       "75%                                                   NaN   \n",
       "max                                                   NaN   \n",
       "\n",
       "                                                    space  \\\n",
       "count                                                2528   \n",
       "unique                                               2268   \n",
       "top     The studio's kitchenette comes equipped with a...   \n",
       "freq                                                   17   \n",
       "mean                                                  NaN   \n",
       "std                                                   NaN   \n",
       "min                                                   NaN   \n",
       "25%                                                   NaN   \n",
       "50%                                                   NaN   \n",
       "75%                                                   NaN   \n",
       "max                                                   NaN   \n",
       "\n",
       "                                              description experiences_offered  \\\n",
       "count                                                3585                3585   \n",
       "unique                                               3423                   1   \n",
       "top     Private room in a HOSTEL exclusive for Airbnb ...                none   \n",
       "freq                                                    7                3585   \n",
       "mean                                                  NaN                 NaN   \n",
       "std                                                   NaN                 NaN   \n",
       "min                                                   NaN                 NaN   \n",
       "25%                                                   NaN                 NaN   \n",
       "50%                                                   NaN                 NaN   \n",
       "75%                                                   NaN                 NaN   \n",
       "max                                                   NaN                 NaN   \n",
       "\n",
       "                                    neighborhood_overview  ...  \\\n",
       "count                                                2170  ...   \n",
       "unique                                               1728  ...   \n",
       "top     Conveniently bordering the neighborhoods of th...  ...   \n",
       "freq                                                   21  ...   \n",
       "mean                                                  NaN  ...   \n",
       "std                                                   NaN  ...   \n",
       "min                                                   NaN  ...   \n",
       "25%                                                   NaN  ...   \n",
       "50%                                                   NaN  ...   \n",
       "75%                                                   NaN  ...   \n",
       "max                                                   NaN  ...   \n",
       "\n",
       "       review_scores_value requires_license license jurisdiction_names  \\\n",
       "count          2764.000000             3585     0.0                0.0   \n",
       "unique                 NaN                1     NaN                NaN   \n",
       "top                    NaN                f     NaN                NaN   \n",
       "freq                   NaN             3585     NaN                NaN   \n",
       "mean              9.168234              NaN     NaN                NaN   \n",
       "std               1.011116              NaN     NaN                NaN   \n",
       "min               2.000000              NaN     NaN                NaN   \n",
       "25%               9.000000              NaN     NaN                NaN   \n",
       "50%               9.000000              NaN     NaN                NaN   \n",
       "75%              10.000000              NaN     NaN                NaN   \n",
       "max              10.000000              NaN     NaN                NaN   \n",
       "\n",
       "       instant_bookable cancellation_policy require_guest_profile_picture  \\\n",
       "count              3585                3585                          3585   \n",
       "unique                2                   4                             2   \n",
       "top                   f              strict                             f   \n",
       "freq               2991                1582                          3518   \n",
       "mean                NaN                 NaN                           NaN   \n",
       "std                 NaN                 NaN                           NaN   \n",
       "min                 NaN                 NaN                           NaN   \n",
       "25%                 NaN                 NaN                           NaN   \n",
       "50%                 NaN                 NaN                           NaN   \n",
       "75%                 NaN                 NaN                           NaN   \n",
       "max                 NaN                 NaN                           NaN   \n",
       "\n",
       "       require_guest_phone_verification calculated_host_listings_count  \\\n",
       "count                              3585                    3585.000000   \n",
       "unique                                2                            NaN   \n",
       "top                                   f                            NaN   \n",
       "freq                               3348                            NaN   \n",
       "mean                                NaN                      12.733891   \n",
       "std                                 NaN                      29.415076   \n",
       "min                                 NaN                       1.000000   \n",
       "25%                                 NaN                       1.000000   \n",
       "50%                                 NaN                       2.000000   \n",
       "75%                                 NaN                       6.000000   \n",
       "max                                 NaN                     136.000000   \n",
       "\n",
       "        reviews_per_month  \n",
       "count         2829.000000  \n",
       "unique                NaN  \n",
       "top                   NaN  \n",
       "freq                  NaN  \n",
       "mean             1.970908  \n",
       "std              2.120561  \n",
       "min              0.010000  \n",
       "25%              0.480000  \n",
       "50%              1.170000  \n",
       "75%              2.720000  \n",
       "max             19.150000  \n",
       "\n",
       "[11 rows x 95 columns]"
      ]
     },
     "execution_count": 5461,
     "metadata": {},
     "output_type": "execute_result"
    }
   ],
   "source": [
    "listings.describe(include='all')"
   ]
  },
  {
   "cell_type": "code",
   "execution_count": 5462,
   "metadata": {},
   "outputs": [
    {
     "name": "stdout",
     "output_type": "stream",
     "text": [
      "id:0,0.0,int64\n",
      "listing_url:0,0.0,object\n",
      "scrape_id:0,0.0,int64\n",
      "last_scraped:0,0.0,object\n",
      "name:0,0.0,object\n",
      "summary:143,0.039888423988842396,object\n",
      "space:1057,0.29483960948396093,object\n",
      "description:0,0.0,object\n",
      "experiences_offered:0,0.0,object\n",
      "neighborhood_overview:1415,0.3947001394700139,object\n",
      "notes:1975,0.5509065550906556,object\n",
      "transit:1290,0.3598326359832636,object\n",
      "access:1489,0.41534170153417016,object\n",
      "interaction:1554,0.43347280334728033,object\n",
      "house_rules:1192,0.33249651324965135,object\n",
      "thumbnail_url:599,0.16708507670850767,object\n",
      "medium_url:599,0.16708507670850767,object\n",
      "picture_url:0,0.0,object\n",
      "xl_picture_url:599,0.16708507670850767,object\n",
      "host_id:0,0.0,int64\n",
      "host_url:0,0.0,object\n",
      "host_name:0,0.0,object\n",
      "host_since:0,0.0,object\n",
      "host_location:11,0.0030683403068340305,object\n",
      "host_about:1309,0.36513249651324964,object\n",
      "host_response_time:471,0.13138075313807532,object\n",
      "host_response_rate:471,0.13138075313807532,object\n",
      "host_acceptance_rate:471,0.13138075313807532,object\n",
      "host_is_superhost:0,0.0,object\n",
      "host_thumbnail_url:0,0.0,object\n",
      "host_picture_url:0,0.0,object\n",
      "host_neighbourhood:339,0.09456066945606695,object\n",
      "host_listings_count:0,0.0,int64\n",
      "host_total_listings_count:0,0.0,int64\n",
      "host_verifications:0,0.0,object\n",
      "host_has_profile_pic:0,0.0,object\n",
      "host_identity_verified:0,0.0,object\n",
      "street:0,0.0,object\n",
      "neighbourhood:543,0.1514644351464435,object\n",
      "neighbourhood_cleansed:0,0.0,object\n",
      "neighbourhood_group_cleansed:3585,1.0,float64\n",
      "city:2,0.0005578800557880056,object\n",
      "state:0,0.0,object\n",
      "zipcode:38,0.010599721059972107,object\n",
      "market:14,0.003905160390516039,object\n",
      "smart_location:0,0.0,object\n",
      "country_code:0,0.0,object\n",
      "country:0,0.0,object\n",
      "latitude:0,0.0,float64\n",
      "longitude:0,0.0,float64\n",
      "is_location_exact:0,0.0,object\n",
      "property_type:3,0.0008368200836820083,object\n",
      "room_type:0,0.0,object\n",
      "accommodates:0,0.0,int64\n",
      "bathrooms:14,0.003905160390516039,float64\n",
      "bedrooms:10,0.002789400278940028,float64\n",
      "beds:9,0.002510460251046025,float64\n",
      "bed_type:0,0.0,object\n",
      "amenities:0,0.0,object\n",
      "square_feet:3529,0.9843793584379359,float64\n",
      "price:0,0.0,object\n",
      "weekly_price:2693,0.7511854951185495,object\n",
      "monthly_price:2697,0.7523012552301255,object\n",
      "security_deposit:2243,0.6256624825662482,object\n",
      "cleaning_fee:1107,0.3087866108786611,object\n",
      "guests_included:0,0.0,int64\n",
      "extra_people:0,0.0,object\n",
      "minimum_nights:0,0.0,int64\n",
      "maximum_nights:0,0.0,int64\n",
      "calendar_updated:0,0.0,object\n",
      "has_availability:3585,1.0,float64\n",
      "availability_30:0,0.0,int64\n",
      "availability_60:0,0.0,int64\n",
      "availability_90:0,0.0,int64\n",
      "availability_365:0,0.0,int64\n",
      "calendar_last_scraped:0,0.0,object\n",
      "number_of_reviews:0,0.0,int64\n",
      "first_review:756,0.2108786610878661,object\n",
      "last_review:756,0.2108786610878661,object\n",
      "review_scores_rating:813,0.22677824267782426,float64\n",
      "review_scores_accuracy:823,0.2295676429567643,float64\n",
      "review_scores_cleanliness:818,0.22817294281729428,float64\n",
      "review_scores_checkin:820,0.22873082287308227,float64\n",
      "review_scores_communication:818,0.22817294281729428,float64\n",
      "review_scores_location:822,0.2292887029288703,float64\n",
      "review_scores_value:821,0.2290097629009763,float64\n",
      "requires_license:0,0.0,object\n",
      "license:3585,1.0,float64\n",
      "jurisdiction_names:3585,1.0,float64\n",
      "instant_bookable:0,0.0,object\n",
      "cancellation_policy:0,0.0,object\n",
      "require_guest_profile_picture:0,0.0,object\n",
      "require_guest_phone_verification:0,0.0,object\n",
      "calculated_host_listings_count:0,0.0,int64\n",
      "reviews_per_month:756,0.2108786610878661,float64\n"
     ]
    }
   ],
   "source": [
    "# How many nulls? What are the column types?\n",
    "for column in listings.columns:\n",
    "    num_null = listings[column].isnull().sum()\n",
    "    prop_null = listings[column].isnull().mean()\n",
    "    col_type = listings[column].dtype\n",
    "    print(column + \":\" + str(num_null) + \",\" + str(prop_null) + \",\" + str(col_type))"
   ]
  },
  {
   "cell_type": "code",
   "execution_count": 5463,
   "metadata": {},
   "outputs": [
    {
     "name": "stdout",
     "output_type": "stream",
     "text": [
      "Index(['summary', 'space', 'neighborhood_overview', 'notes', 'transit',\n",
      "       'access', 'interaction', 'house_rules', 'thumbnail_url', 'medium_url',\n",
      "       'xl_picture_url', 'host_location', 'host_about', 'host_response_time',\n",
      "       'host_response_rate', 'host_acceptance_rate', 'host_neighbourhood',\n",
      "       'neighbourhood', 'neighbourhood_group_cleansed', 'city', 'zipcode',\n",
      "       'market', 'property_type', 'bathrooms', 'bedrooms', 'beds',\n",
      "       'square_feet', 'weekly_price', 'monthly_price', 'security_deposit',\n",
      "       'cleaning_fee', 'has_availability', 'first_review', 'last_review',\n",
      "       'review_scores_rating', 'review_scores_accuracy',\n",
      "       'review_scores_cleanliness', 'review_scores_checkin',\n",
      "       'review_scores_communication', 'review_scores_location',\n",
      "       'review_scores_value', 'license', 'jurisdiction_names',\n",
      "       'reviews_per_month'],\n",
      "      dtype='object')\n"
     ]
    }
   ],
   "source": [
    "# How many nulls? What are the column types?\n",
    "null_columns = listings.columns[listings.isnull().any()]\n",
    "print(null_columns)"
   ]
  },
  {
   "cell_type": "code",
   "execution_count": 5464,
   "metadata": {},
   "outputs": [
    {
     "name": "stdout",
     "output_type": "stream",
     "text": [
      "summary:143,0.039888423988842396,object\n",
      "space:1057,0.29483960948396093,object\n",
      "neighborhood_overview:1415,0.3947001394700139,object\n",
      "notes:1975,0.5509065550906556,object\n",
      "transit:1290,0.3598326359832636,object\n",
      "access:1489,0.41534170153417016,object\n",
      "interaction:1554,0.43347280334728033,object\n",
      "house_rules:1192,0.33249651324965135,object\n",
      "thumbnail_url:599,0.16708507670850767,object\n",
      "medium_url:599,0.16708507670850767,object\n",
      "xl_picture_url:599,0.16708507670850767,object\n",
      "host_location:11,0.0030683403068340305,object\n",
      "host_about:1309,0.36513249651324964,object\n",
      "host_response_time:471,0.13138075313807532,object\n",
      "host_response_rate:471,0.13138075313807532,object\n",
      "host_acceptance_rate:471,0.13138075313807532,object\n",
      "host_neighbourhood:339,0.09456066945606695,object\n",
      "neighbourhood:543,0.1514644351464435,object\n",
      "neighbourhood_group_cleansed:3585,1.0,float64\n",
      "city:2,0.0005578800557880056,object\n",
      "zipcode:38,0.010599721059972107,object\n",
      "market:14,0.003905160390516039,object\n",
      "property_type:3,0.0008368200836820083,object\n",
      "bathrooms:14,0.003905160390516039,float64\n",
      "bedrooms:10,0.002789400278940028,float64\n",
      "beds:9,0.002510460251046025,float64\n",
      "square_feet:3529,0.9843793584379359,float64\n",
      "weekly_price:2693,0.7511854951185495,object\n",
      "monthly_price:2697,0.7523012552301255,object\n",
      "security_deposit:2243,0.6256624825662482,object\n",
      "cleaning_fee:1107,0.3087866108786611,object\n",
      "has_availability:3585,1.0,float64\n",
      "first_review:756,0.2108786610878661,object\n",
      "last_review:756,0.2108786610878661,object\n",
      "review_scores_rating:813,0.22677824267782426,float64\n",
      "review_scores_accuracy:823,0.2295676429567643,float64\n",
      "review_scores_cleanliness:818,0.22817294281729428,float64\n",
      "review_scores_checkin:820,0.22873082287308227,float64\n",
      "review_scores_communication:818,0.22817294281729428,float64\n",
      "review_scores_location:822,0.2292887029288703,float64\n",
      "review_scores_value:821,0.2290097629009763,float64\n",
      "license:3585,1.0,float64\n",
      "jurisdiction_names:3585,1.0,float64\n",
      "reviews_per_month:756,0.2108786610878661,float64\n"
     ]
    }
   ],
   "source": [
    "# How many nulls? What proportion of nulls? What are the column types?\n",
    "for column in listings.columns:\n",
    "    num_null = listings[column].isnull().sum()\n",
    "    prop_null = listings[column].isnull().mean()\n",
    "    col_type = listings[column].dtype\n",
    "    if num_null > 0:\n",
    "        print(column + \":\" + str(num_null) + \",\" + str(prop_null) + \",\" + str(col_type))\n",
    "    else:\n",
    "        continue"
   ]
  },
  {
   "cell_type": "markdown",
   "metadata": {},
   "source": [
    "Clean up listings file."
   ]
  },
  {
   "cell_type": "code",
   "execution_count": 5465,
   "metadata": {},
   "outputs": [],
   "source": [
    "# Drop text-heavy columns\n",
    "listings_filtered = listings.drop(['description', 'summary', 'space', 'neighborhood_overview', 'notes', \n",
    "                                   'transit', 'access', 'interaction', 'house_rules', 'host_about', \n",
    "                                   'amenities', 'name', 'host_name', 'host_verifications'], axis = 1)"
   ]
  },
  {
   "cell_type": "code",
   "execution_count": 5466,
   "metadata": {},
   "outputs": [],
   "source": [
    "# Remove URL fields\n",
    "listings_filtered = listings_filtered.drop(['host_thumbnail_url', 'listing_url', 'thumbnail_url', 'host_url', 'host_picture_url',\n",
    "                                            'medium_url', 'picture_url', 'xl_picture_url'], axis = 1)"
   ]
  },
  {
   "cell_type": "code",
   "execution_count": 5467,
   "metadata": {},
   "outputs": [],
   "source": [
    "# Remove location fields unlikely to be helpful in analysis\n",
    "# Lat and Long \n",
    "listings_filtered['country'].value_counts()\n",
    "# country has one value: United States\n",
    "listings_filtered['country_code'].value_counts()\n",
    "# country_code has one value: US\n",
    "# street\n",
    "listings_filtered['state'].value_counts()\n",
    "# state has one value: MA\n",
    "listings_filtered['market'].value_counts()\n",
    "# most in Boston, but 1 in San Francisco, 1 in Other (Domestic), and 1 in Other (International)\n",
    "# city, zipcode, smart_location, neighbourhood, and neighbourhood_cleansed all contain similar info - keep only one\n",
    "# is_location_exact doesn't seem particularly helpful\n",
    "listings_filtered['jurisdiction_names'].isnull().mean()\n",
    "# all values are null\n",
    "\n",
    "listings_filtered = listings_filtered.drop(['latitude', 'longitude', 'country', 'country_code', 'street', 'state', 'market', \n",
    "                                            'neighbourhood', 'smart_location', 'is_location_exact', 'city', 'zipcode', \n",
    "                                            'jurisdiction_names'], axis = 1)"
   ]
  },
  {
   "cell_type": "code",
   "execution_count": 5468,
   "metadata": {},
   "outputs": [],
   "source": [
    "# Remove additional fields with negligent value in analysis\n",
    "listings_filtered['last_scraped'].value_counts()\n",
    "# last_scraped has one value: 2016-09-07\n",
    "listings_filtered['calendar_last_scraped'].value_counts()\n",
    "# calendar_last_scraped has one value:2016-09-06\n",
    "listings_filtered['scrape_id'].value_counts()\n",
    "# scrape_id has one value:20160906204935\n",
    "listings_filtered['experiences_offered'].value_counts()\n",
    "# experiences_offered has one value: none\n",
    "listings_filtered['id'].value_counts()\n",
    "# every id appears only once\n",
    "# host_id\n",
    "listings_filtered['has_availability'].isnull().mean()\n",
    "listings_filtered['neighbourhood_group_cleansed'].isnull().mean()\n",
    "listings_filtered['license'].isnull().mean()\n",
    "# all rows are null\n",
    "# not too interested in host_location or host_neighbourhood\n",
    "\n",
    "listings_filtered = listings_filtered.drop(['last_scraped', 'calendar_last_scraped', 'scrape_id', 'id', \n",
    "                                            'experiences_offered', 'host_id', 'has_availability', \n",
    "                                            'neighbourhood_group_cleansed', 'license', 'host_location',\n",
    "                                            'host_neighbourhood'], axis = 1)"
   ]
  },
  {
   "cell_type": "code",
   "execution_count": 5469,
   "metadata": {},
   "outputs": [
    {
     "data": {
      "text/plain": [
       "Index(['host_since', 'host_response_time', 'host_response_rate',\n",
       "       'host_acceptance_rate', 'host_is_superhost', 'host_listings_count',\n",
       "       'host_total_listings_count', 'host_has_profile_pic',\n",
       "       'host_identity_verified', 'neighbourhood_cleansed', 'property_type',\n",
       "       'room_type', 'accommodates', 'bathrooms', 'bedrooms', 'beds',\n",
       "       'bed_type', 'square_feet', 'price', 'weekly_price', 'monthly_price',\n",
       "       'security_deposit', 'cleaning_fee', 'guests_included', 'extra_people',\n",
       "       'minimum_nights', 'maximum_nights', 'calendar_updated',\n",
       "       'availability_30', 'availability_60', 'availability_90',\n",
       "       'availability_365', 'number_of_reviews', 'first_review', 'last_review',\n",
       "       'review_scores_rating', 'review_scores_accuracy',\n",
       "       'review_scores_cleanliness', 'review_scores_checkin',\n",
       "       'review_scores_communication', 'review_scores_location',\n",
       "       'review_scores_value', 'requires_license', 'instant_bookable',\n",
       "       'cancellation_policy', 'require_guest_profile_picture',\n",
       "       'require_guest_phone_verification', 'calculated_host_listings_count',\n",
       "       'reviews_per_month'],\n",
       "      dtype='object')"
      ]
     },
     "execution_count": 5469,
     "metadata": {},
     "output_type": "execute_result"
    }
   ],
   "source": [
    "listings_filtered.columns"
   ]
  },
  {
   "cell_type": "code",
   "execution_count": 5470,
   "metadata": {},
   "outputs": [
    {
     "data": {
      "text/html": [
       "<div>\n",
       "<style scoped>\n",
       "    .dataframe tbody tr th:only-of-type {\n",
       "        vertical-align: middle;\n",
       "    }\n",
       "\n",
       "    .dataframe tbody tr th {\n",
       "        vertical-align: top;\n",
       "    }\n",
       "\n",
       "    .dataframe thead th {\n",
       "        text-align: right;\n",
       "    }\n",
       "</style>\n",
       "<table border=\"1\" class=\"dataframe\">\n",
       "  <thead>\n",
       "    <tr style=\"text-align: right;\">\n",
       "      <th></th>\n",
       "      <th>weekly_price</th>\n",
       "      <th>monthly_price</th>\n",
       "      <th>security_deposit</th>\n",
       "      <th>cleaning_fee</th>\n",
       "    </tr>\n",
       "  </thead>\n",
       "  <tbody>\n",
       "    <tr>\n",
       "      <th>0</th>\n",
       "      <td>NaN</td>\n",
       "      <td>NaN</td>\n",
       "      <td>NaN</td>\n",
       "      <td>$35.00</td>\n",
       "    </tr>\n",
       "    <tr>\n",
       "      <th>1</th>\n",
       "      <td>$400.00</td>\n",
       "      <td>NaN</td>\n",
       "      <td>$95.00</td>\n",
       "      <td>$10.00</td>\n",
       "    </tr>\n",
       "    <tr>\n",
       "      <th>2</th>\n",
       "      <td>$395.00</td>\n",
       "      <td>$1,350.00</td>\n",
       "      <td>NaN</td>\n",
       "      <td>NaN</td>\n",
       "    </tr>\n",
       "    <tr>\n",
       "      <th>3</th>\n",
       "      <td>NaN</td>\n",
       "      <td>NaN</td>\n",
       "      <td>$100.00</td>\n",
       "      <td>$50.00</td>\n",
       "    </tr>\n",
       "    <tr>\n",
       "      <th>4</th>\n",
       "      <td>NaN</td>\n",
       "      <td>NaN</td>\n",
       "      <td>NaN</td>\n",
       "      <td>$15.00</td>\n",
       "    </tr>\n",
       "  </tbody>\n",
       "</table>\n",
       "</div>"
      ],
      "text/plain": [
       "  weekly_price monthly_price security_deposit cleaning_fee\n",
       "0          NaN           NaN              NaN       $35.00\n",
       "1      $400.00           NaN           $95.00       $10.00\n",
       "2      $395.00     $1,350.00              NaN          NaN\n",
       "3          NaN           NaN          $100.00       $50.00\n",
       "4          NaN           NaN              NaN       $15.00"
      ]
     },
     "execution_count": 5470,
     "metadata": {},
     "output_type": "execute_result"
    }
   ],
   "source": [
    "# Why are price fields considered object type? Let's fix this.\n",
    "listings_filtered[['weekly_price', 'monthly_price', 'security_deposit', 'cleaning_fee']].head()"
   ]
  },
  {
   "cell_type": "code",
   "execution_count": 5471,
   "metadata": {},
   "outputs": [
    {
     "data": {
      "text/html": [
       "<div>\n",
       "<style scoped>\n",
       "    .dataframe tbody tr th:only-of-type {\n",
       "        vertical-align: middle;\n",
       "    }\n",
       "\n",
       "    .dataframe tbody tr th {\n",
       "        vertical-align: top;\n",
       "    }\n",
       "\n",
       "    .dataframe thead th {\n",
       "        text-align: right;\n",
       "    }\n",
       "</style>\n",
       "<table border=\"1\" class=\"dataframe\">\n",
       "  <thead>\n",
       "    <tr style=\"text-align: right;\">\n",
       "      <th></th>\n",
       "      <th>weekly_price</th>\n",
       "      <th>monthly_price</th>\n",
       "      <th>security_deposit</th>\n",
       "      <th>cleaning_fee</th>\n",
       "      <th>extra_people</th>\n",
       "      <th>price</th>\n",
       "    </tr>\n",
       "  </thead>\n",
       "  <tbody>\n",
       "    <tr>\n",
       "      <th>0</th>\n",
       "      <td>NaN</td>\n",
       "      <td>NaN</td>\n",
       "      <td>NaN</td>\n",
       "      <td>35.00</td>\n",
       "      <td>0.00</td>\n",
       "      <td>250.00</td>\n",
       "    </tr>\n",
       "    <tr>\n",
       "      <th>1</th>\n",
       "      <td>400.00</td>\n",
       "      <td>NaN</td>\n",
       "      <td>95.00</td>\n",
       "      <td>10.00</td>\n",
       "      <td>0.00</td>\n",
       "      <td>65.00</td>\n",
       "    </tr>\n",
       "    <tr>\n",
       "      <th>2</th>\n",
       "      <td>395.00</td>\n",
       "      <td>1,350.00</td>\n",
       "      <td>NaN</td>\n",
       "      <td>NaN</td>\n",
       "      <td>20.00</td>\n",
       "      <td>65.00</td>\n",
       "    </tr>\n",
       "    <tr>\n",
       "      <th>3</th>\n",
       "      <td>NaN</td>\n",
       "      <td>NaN</td>\n",
       "      <td>100.00</td>\n",
       "      <td>50.00</td>\n",
       "      <td>25.00</td>\n",
       "      <td>75.00</td>\n",
       "    </tr>\n",
       "    <tr>\n",
       "      <th>4</th>\n",
       "      <td>NaN</td>\n",
       "      <td>NaN</td>\n",
       "      <td>NaN</td>\n",
       "      <td>15.00</td>\n",
       "      <td>0.00</td>\n",
       "      <td>79.00</td>\n",
       "    </tr>\n",
       "  </tbody>\n",
       "</table>\n",
       "</div>"
      ],
      "text/plain": [
       "  weekly_price monthly_price security_deposit cleaning_fee extra_people  \\\n",
       "0          NaN           NaN              NaN        35.00         0.00   \n",
       "1       400.00           NaN            95.00        10.00         0.00   \n",
       "2       395.00      1,350.00              NaN          NaN        20.00   \n",
       "3          NaN           NaN           100.00        50.00        25.00   \n",
       "4          NaN           NaN              NaN        15.00         0.00   \n",
       "\n",
       "    price  \n",
       "0  250.00  \n",
       "1   65.00  \n",
       "2   65.00  \n",
       "3   75.00  \n",
       "4   79.00  "
      ]
     },
     "execution_count": 5471,
     "metadata": {},
     "output_type": "execute_result"
    }
   ],
   "source": [
    "# price field has object dtype due to $ character\n",
    "# Remove $ from beginning of each string\n",
    "listings_filtered['weekly_price'] = listings_filtered['weekly_price'].str.replace(\"$\", \"\")\n",
    "listings_filtered['monthly_price'] = listings_filtered['monthly_price'].str.replace(\"$\", \"\")\n",
    "listings_filtered['security_deposit'] = listings_filtered['security_deposit'].str.replace(\"$\", \"\")\n",
    "listings_filtered['cleaning_fee'] = listings_filtered['cleaning_fee'].str.replace(\"$\", \"\")\n",
    "listings_filtered['extra_people'] = listings_filtered['extra_people'].str.replace(\"$\", \"\")\n",
    "listings_filtered['price'] = listings_filtered['price'].str.replace(\"$\", \"\")\n",
    "\n",
    "listings_filtered[['weekly_price', 'monthly_price', 'security_deposit', \n",
    "                   'cleaning_fee', 'extra_people', 'price']].head() # confirm changes worked correctly"
   ]
  },
  {
   "cell_type": "code",
   "execution_count": 5472,
   "metadata": {},
   "outputs": [
    {
     "data": {
      "text/plain": [
       "0     NaN\n",
       "1    100%\n",
       "2    100%\n",
       "3    100%\n",
       "4    100%\n",
       "Name: host_response_rate, dtype: object"
      ]
     },
     "execution_count": 5472,
     "metadata": {},
     "output_type": "execute_result"
    }
   ],
   "source": [
    "# Why is host response rate an object?\n",
    "listings_filtered['host_response_rate'].head()"
   ]
  },
  {
   "cell_type": "code",
   "execution_count": 5473,
   "metadata": {},
   "outputs": [
    {
     "data": {
      "text/plain": [
       "0    NaN\n",
       "1    100\n",
       "2    100\n",
       "3    100\n",
       "4    100\n",
       "Name: host_response_rate, dtype: object"
      ]
     },
     "execution_count": 5473,
     "metadata": {},
     "output_type": "execute_result"
    }
   ],
   "source": [
    "# host_response_rate field has object dtype due to % character\n",
    "# Remove % from end of each string\n",
    "listings_filtered['host_response_rate'] = listings_filtered['host_response_rate'].str.replace(\"%\", \"\")\n",
    "\n",
    "listings_filtered['host_response_rate'].head() # confirm changes worked correctly"
   ]
  },
  {
   "cell_type": "code",
   "execution_count": 5474,
   "metadata": {},
   "outputs": [
    {
     "data": {
      "text/plain": [
       "0     NaN\n",
       "1    100%\n",
       "2     88%\n",
       "3     50%\n",
       "4    100%\n",
       "Name: host_acceptance_rate, dtype: object"
      ]
     },
     "execution_count": 5474,
     "metadata": {},
     "output_type": "execute_result"
    }
   ],
   "source": [
    "# Why is host acceptance rate an object?\n",
    "listings_filtered['host_acceptance_rate'].head()"
   ]
  },
  {
   "cell_type": "code",
   "execution_count": 5475,
   "metadata": {},
   "outputs": [
    {
     "data": {
      "text/plain": [
       "0    NaN\n",
       "1    100\n",
       "2     88\n",
       "3     50\n",
       "4    100\n",
       "Name: host_acceptance_rate, dtype: object"
      ]
     },
     "execution_count": 5475,
     "metadata": {},
     "output_type": "execute_result"
    }
   ],
   "source": [
    "# host_acceptance_rate field has object dtype due to % character\n",
    "# Remove % from end of each string\n",
    "listings_filtered['host_acceptance_rate'] = listings_filtered['host_acceptance_rate'].str.replace(\"%\", \"\")\n",
    "\n",
    "listings_filtered['host_acceptance_rate'].head() # confirm changes worked correctly"
   ]
  },
  {
   "cell_type": "code",
   "execution_count": 5476,
   "metadata": {},
   "outputs": [
    {
     "data": {
      "text/plain": [
       "host_since                           object\n",
       "host_response_time                   object\n",
       "host_response_rate                  float64\n",
       "host_acceptance_rate                float64\n",
       "host_is_superhost                    object\n",
       "host_listings_count                   int64\n",
       "host_total_listings_count             int64\n",
       "host_has_profile_pic                 object\n",
       "host_identity_verified               object\n",
       "neighbourhood_cleansed               object\n",
       "property_type                        object\n",
       "room_type                            object\n",
       "accommodates                          int64\n",
       "bathrooms                           float64\n",
       "bedrooms                            float64\n",
       "beds                                float64\n",
       "bed_type                             object\n",
       "square_feet                         float64\n",
       "price                               float64\n",
       "weekly_price                        float64\n",
       "monthly_price                       float64\n",
       "security_deposit                    float64\n",
       "cleaning_fee                        float64\n",
       "guests_included                       int64\n",
       "extra_people                        float64\n",
       "minimum_nights                        int64\n",
       "maximum_nights                        int64\n",
       "calendar_updated                     object\n",
       "availability_30                       int64\n",
       "availability_60                       int64\n",
       "availability_90                       int64\n",
       "availability_365                      int64\n",
       "number_of_reviews                     int64\n",
       "first_review                         object\n",
       "last_review                          object\n",
       "review_scores_rating                float64\n",
       "review_scores_accuracy              float64\n",
       "review_scores_cleanliness           float64\n",
       "review_scores_checkin               float64\n",
       "review_scores_communication         float64\n",
       "review_scores_location              float64\n",
       "review_scores_value                 float64\n",
       "requires_license                     object\n",
       "instant_bookable                     object\n",
       "cancellation_policy                  object\n",
       "require_guest_profile_picture        object\n",
       "require_guest_phone_verification     object\n",
       "calculated_host_listings_count        int64\n",
       "reviews_per_month                   float64\n",
       "dtype: object"
      ]
     },
     "execution_count": 5476,
     "metadata": {},
     "output_type": "execute_result"
    }
   ],
   "source": [
    "# Convert price and fee fields to numeric type\n",
    "listings_filtered['weekly_price'] = pd.to_numeric(listings_filtered['weekly_price'], errors= \"coerce\")\n",
    "listings_filtered['monthly_price'] = pd.to_numeric(listings_filtered['monthly_price'], errors= \"coerce\")\n",
    "listings_filtered['security_deposit'] = pd.to_numeric(listings_filtered['security_deposit'], errors= \"coerce\")\n",
    "listings_filtered['cleaning_fee'] = pd.to_numeric(listings_filtered['cleaning_fee'], errors= \"coerce\")\n",
    "listings_filtered['extra_people'] = pd.to_numeric(listings_filtered['extra_people'], errors= \"coerce\")\n",
    "listings_filtered['price'] = pd.to_numeric(listings_filtered['price'], errors= \"coerce\")\n",
    "\n",
    "\n",
    "# Convert host_response_rate and host_acceptance_rate to numeric type\n",
    "listings_filtered['host_response_rate'] = pd.to_numeric(listings_filtered['host_response_rate'], errors= \"coerce\")\n",
    "listings_filtered['host_acceptance_rate'] = pd.to_numeric(listings_filtered['host_acceptance_rate'], errors= \"coerce\")\n",
    "\n",
    "\n",
    "listings_filtered.dtypes # confirm change was successful"
   ]
  },
  {
   "cell_type": "code",
   "execution_count": 5477,
   "metadata": {},
   "outputs": [
    {
     "name": "stdout",
     "output_type": "stream",
     "text": [
      "host_response_time:471,0.13138075313807532,object\n",
      "host_response_rate:471,0.13138075313807532,float64\n",
      "host_acceptance_rate:471,0.13138075313807532,float64\n",
      "property_type:3,0.0008368200836820083,object\n",
      "bathrooms:14,0.003905160390516039,float64\n",
      "bedrooms:10,0.002789400278940028,float64\n",
      "beds:9,0.002510460251046025,float64\n",
      "square_feet:3529,0.9843793584379359,float64\n",
      "price:12,0.0033472803347280333,float64\n",
      "weekly_price:3009,0.8393305439330544,float64\n",
      "monthly_price:3541,0.9877266387726639,float64\n",
      "security_deposit:2317,0.6463040446304045,float64\n",
      "cleaning_fee:1107,0.3087866108786611,float64\n",
      "first_review:756,0.2108786610878661,object\n",
      "last_review:756,0.2108786610878661,object\n",
      "review_scores_rating:813,0.22677824267782426,float64\n",
      "review_scores_accuracy:823,0.2295676429567643,float64\n",
      "review_scores_cleanliness:818,0.22817294281729428,float64\n",
      "review_scores_checkin:820,0.22873082287308227,float64\n",
      "review_scores_communication:818,0.22817294281729428,float64\n",
      "review_scores_location:822,0.2292887029288703,float64\n",
      "review_scores_value:821,0.2290097629009763,float64\n",
      "reviews_per_month:756,0.2108786610878661,float64\n"
     ]
    }
   ],
   "source": [
    "# Post-filtering and cleaning: How many nulls? What proportion of nulls? What are the column types?\n",
    "for column in listings_filtered.columns:\n",
    "    num_null = listings_filtered[column].isnull().sum()\n",
    "    prop_null = listings_filtered[column].isnull().mean()\n",
    "    col_type = listings_filtered[column].dtype\n",
    "    if num_null > 0:\n",
    "        print(column + \":\" + str(num_null) + \",\" + str(prop_null) + \",\" + str(col_type))\n",
    "    else:\n",
    "        continue"
   ]
  },
  {
   "cell_type": "markdown",
   "metadata": {},
   "source": [
    "Impute missing values for numeric fields."
   ]
  },
  {
   "cell_type": "code",
   "execution_count": 5478,
   "metadata": {},
   "outputs": [
    {
     "name": "stderr",
     "output_type": "stream",
     "text": [
      "C:\\Users\\emma1\\AppData\\Local\\Temp\\ipykernel_10032\\1779950298.py:3: FutureWarning: A value is trying to be set on a copy of a DataFrame or Series through chained assignment using an inplace method.\n",
      "The behavior will change in pandas 3.0. This inplace method will never work because the intermediate object on which we are setting values always behaves as a copy.\n",
      "\n",
      "For example, when doing 'df[col].method(value, inplace=True)', try using 'df.method({col: value}, inplace=True)' or df[col] = df[col].method(value) instead, to perform the operation inplace on the original object.\n",
      "\n",
      "\n",
      "  listings_filtered[col].fillna((listings_filtered[col].mean()), inplace = True)\n"
     ]
    }
   ],
   "source": [
    "listings_num_vars = listings_filtered.select_dtypes(include=['float', 'int']).columns\n",
    "for col in listings_num_vars:\n",
    "    listings_filtered[col].fillna((listings_filtered[col].mean()), inplace = True)"
   ]
  },
  {
   "cell_type": "code",
   "execution_count": 5479,
   "metadata": {},
   "outputs": [
    {
     "name": "stdout",
     "output_type": "stream",
     "text": [
      "host_response_time:471,0.13138075313807532,object\n",
      "property_type:3,0.0008368200836820083,object\n",
      "first_review:756,0.2108786610878661,object\n",
      "last_review:756,0.2108786610878661,object\n"
     ]
    }
   ],
   "source": [
    "# Post-filtering and cleaning: How many nulls? What proportion of nulls? What are the column types?\n",
    "for column in listings_filtered.columns:\n",
    "    num_null = listings_filtered[column].isnull().sum()\n",
    "    prop_null = listings_filtered[column].isnull().mean()\n",
    "    col_type = listings_filtered[column].dtype\n",
    "    if num_null > 0:\n",
    "        print(column + \":\" + str(num_null) + \",\" + str(prop_null) + \",\" + str(col_type))\n",
    "    else:\n",
    "        continue"
   ]
  },
  {
   "cell_type": "code",
   "execution_count": null,
   "metadata": {},
   "outputs": [],
   "source": [
    "reviews_path = r\"C:\\Users\\emma1\\Project_1_Data-Science-Blog\\Boston Airbnb Open Data\\reviews.csv\"\n",
    "reviews = pd.read_csv(reviews_path)\n",
    "print(reviews.head())\n",
    "reviews.shape"
   ]
  },
  {
   "cell_type": "markdown",
   "metadata": {},
   "source": [
    "Question 1: What factors make the highest rated Airbnb properties so popular?"
   ]
  },
  {
   "cell_type": "code",
   "execution_count": null,
   "metadata": {},
   "outputs": [],
   "source": [
    "# Start with listings table and look at review scores\n",
    "reviews = listings[['first_review', 'last_review', 'review_scores_rating', 'review_scores_accuracy', 'review_scores_cleanliness',\n",
    "                   'review_scores_checkin', 'review_scores_communication', 'review_scores_location', 'review_scores_value']]\n",
    "reviews.head()\n",
    "reviews.describe()\n",
    "\n",
    "listings"
   ]
  },
  {
   "cell_type": "code",
   "execution_count": null,
   "metadata": {},
   "outputs": [],
   "source": [
    "dtypes = listings.dtypes\n",
    "dtypes\n",
    "l_num_vars = listings.select_dtypes(include='number')\n",
    "l_num_vars.columns\n"
   ]
  },
  {
   "cell_type": "code",
   "execution_count": null,
   "metadata": {},
   "outputs": [],
   "source": [
    "# Do hosts with more listings have higher ratings?\n",
    "\n",
    "plt.scatter(l_num_vars['host_listings_count'], l_num_vars['review_scores_rating']); # not a strong correlation or relationship"
   ]
  },
  {
   "cell_type": "code",
   "execution_count": null,
   "metadata": {},
   "outputs": [],
   "source": [
    "# Do hosts with more monthly reviews have higher ratings?\n",
    "\n",
    "plt.scatter(l_num_vars['reviews_per_month'], l_num_vars['review_scores_rating']); # apparent positive but non-linear relationship"
   ]
  },
  {
   "cell_type": "code",
   "execution_count": null,
   "metadata": {},
   "outputs": [],
   "source": [
    "l_num_vars[['availability_30', 'availability_60', 'availability_90', 'availability_365', 'has_availability']].head()"
   ]
  },
  {
   "cell_type": "code",
   "execution_count": null,
   "metadata": {},
   "outputs": [],
   "source": [
    "plt.subplot(l_num_vars['reviews_per_month'], l_num_vars[['availability_30', 'availability_60', 'availability_90', 'availability_365', 'has_availability']]);"
   ]
  },
  {
   "cell_type": "markdown",
   "metadata": {},
   "source": [
    "Question 2: How do fees impact bookings?"
   ]
  },
  {
   "cell_type": "code",
   "execution_count": null,
   "metadata": {},
   "outputs": [],
   "source": []
  },
  {
   "cell_type": "markdown",
   "metadata": {},
   "source": [
    "Question 3: How do host characteristics impact bookings and reviews?"
   ]
  },
  {
   "cell_type": "code",
   "execution_count": null,
   "metadata": {},
   "outputs": [],
   "source": []
  }
 ],
 "metadata": {
  "kernelspec": {
   "display_name": ".venv",
   "language": "python",
   "name": "python3"
  },
  "language_info": {
   "codemirror_mode": {
    "name": "ipython",
    "version": 3
   },
   "file_extension": ".py",
   "mimetype": "text/x-python",
   "name": "python",
   "nbconvert_exporter": "python",
   "pygments_lexer": "ipython3",
   "version": "3.13.1"
  }
 },
 "nbformat": 4,
 "nbformat_minor": 2
}
